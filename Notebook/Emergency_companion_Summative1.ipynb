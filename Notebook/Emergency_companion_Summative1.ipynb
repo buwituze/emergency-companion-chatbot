{
  "cells": [
    {
      "cell_type": "markdown",
      "metadata": {
        "colab_type": "text",
        "id": "view-in-github"
      },
      "source": [
        "<a href=\"https://colab.research.google.com/github/buwituze/emergency-companion-chatbot/blob/main/Emergency_companion_Summative1.ipynb\" target=\"_parent\"><img src=\"https://colab.research.google.com/assets/colab-badge.svg\" alt=\"Open In Colab\"/></a>"
      ]
    },
    {
      "cell_type": "code",
      "execution_count": 5,
      "metadata": {
        "colab": {
          "base_uri": "https://localhost:8080/"
        },
        "id": "5IEsVWz-eixh",
        "outputId": "a384c599-aeb5-49f4-f8b0-7aa89335ffa2"
      },
      "outputs": [
        {
          "name": "stdout",
          "output_type": "stream",
          "text": [
            "Setup complete\n",
            "PyTorch version: 2.8.0+cu126\n",
            "CUDA available: True\n"
          ]
        }
      ],
      "source": [
        "import json\n",
        "import pandas as pd\n",
        "import numpy as np\n",
        "import re\n",
        "import matplotlib.pyplot as plt\n",
        "import seaborn as sns\n",
        "from sklearn.model_selection import train_test_split\n",
        "from transformers import (\n",
        "    GPT2LMHeadModel,\n",
        "    GPT2Tokenizer,\n",
        "    TrainingArguments,\n",
        "    Trainer,\n",
        "    DataCollatorForLanguageModeling,\n",
        "    EarlyStoppingCallback\n",
        ")\n",
        "from datasets import Dataset\n",
        "import warnings\n",
        "import torch\n",
        "from torch.nn.utils.rnn import pad_sequence\n",
        "\n",
        "warnings.filterwarnings('ignore')\n",
        "np.random.seed(42)\n",
        "torch.manual_seed(42)\n",
        "if torch.cuda.is_available():\n",
        "    torch.cuda.manual_seed_all(42)\n",
        "\n",
        "print(\"Setup complete\")\n",
        "print(f\"PyTorch version: {torch.__version__}\")\n",
        "print(f\"CUDA available: {torch.cuda.is_available()}\")"
      ]
    },
    {
      "cell_type": "markdown",
      "metadata": {
        "id": "_X4prffWDjyh"
      },
      "source": [
        "## Load data"
      ]
    },
    {
      "cell_type": "code",
      "execution_count": 6,
      "metadata": {
        "colab": {
          "base_uri": "https://localhost:8080/"
        },
        "id": "nWPPNjcuitEG",
        "outputId": "5a3e67a7-4746-4b13-8945-435699b876e6"
      },
      "outputs": [
        {
          "name": "stdout",
          "output_type": "stream",
          "text": [
            "Drive already mounted at /content/drive; to attempt to forcibly remount, call drive.mount(\"/content/drive\", force_remount=True).\n",
            "✓ Loaded 56 intent categories\n"
          ]
        }
      ],
      "source": [
        "from google.colab import drive\n",
        "drive.mount('/content/drive')\n",
        "\n",
        "dataset_path = \"/content/drive/MyDrive/Emergency-companion-chatbot/Dataset/intents.json\"\n",
        "\n",
        "with open(dataset_path, \"r\") as f:\n",
        "    data = json.load(f)\n",
        "\n",
        "print(f\"Loaded {len(data['intents'])} intent categories\")"
      ]
    },
    {
      "cell_type": "markdown",
      "metadata": {
        "id": "J_13B2vPExVx"
      },
      "source": [
        "## Explore Dataset"
      ]
    },
    {
      "cell_type": "code",
      "execution_count": 10,
      "metadata": {
        "colab": {
          "base_uri": "https://localhost:8080/"
        },
        "id": "wYLWVZcHDzlU",
        "outputId": "d4961e66-ea78-4022-ecf3-e21bd8fa9cce"
      },
      "outputs": [
        {
          "name": "stdout",
          "output_type": "stream",
          "text": [
            "Patterns and responses in each tag\n",
            "Intent: Cuts\n",
            "  Patterns: 7\n",
            "  Responses: 2\n",
            " \n",
            "Intent: Abrasions\n",
            "  Patterns: 6\n",
            "  Responses: 2\n",
            " \n",
            "Intent: Stings\n",
            "  Patterns: 6\n",
            "  Responses: 2\n",
            " \n",
            "Intent: Splinter\n",
            "  Patterns: 5\n",
            "  Responses: 2\n",
            " \n",
            "Intent: Sprains\n",
            "  Patterns: 5\n",
            "  Responses: 2\n",
            " \n",
            "Intent: Strains\n",
            "  Patterns: 5\n",
            "  Responses: 2\n",
            " \n",
            "Intent: Fever\n",
            "  Patterns: 5\n",
            "  Responses: 2\n",
            " \n",
            "Intent: NasalCongestion\n",
            "  Patterns: 5\n",
            "  Responses: 2\n",
            " \n",
            "Intent: Cough\n",
            "  Patterns: 5\n",
            "  Responses: 2\n",
            " \n",
            "Intent: SoreThroat\n",
            "  Patterns: 5\n",
            "  Responses: 2\n",
            " \n",
            "Intent: GastrointestinalProblems\n",
            "  Patterns: 5\n",
            "  Responses: 2\n",
            " \n",
            "Intent: SkinProblems\n",
            "  Patterns: 5\n",
            "  Responses: 1\n",
            " \n",
            "Intent: AbdominalPain\n",
            "  Patterns: 5\n",
            "  Responses: 2\n",
            " \n",
            "Intent: Bruises\n",
            "  Patterns: 5\n",
            "  Responses: 2\n",
            " \n",
            "Intent: BrokenToe\n",
            "  Patterns: 5\n",
            "  Responses: 2\n",
            " \n",
            "Intent: Choking\n",
            "  Patterns: 5\n",
            "  Responses: 2\n",
            " \n",
            "Intent: Wound\n",
            "  Patterns: 4\n",
            "  Responses: 2\n",
            " \n",
            "Intent: Diarrhea\n",
            "  Patterns: 4\n",
            "  Responses: 2\n",
            " \n",
            "Intent: Frostbite\n",
            "  Patterns: 4\n",
            "  Responses: 2\n",
            " \n",
            "Intent: HeatExhaustion\n",
            "  Patterns: 4\n",
            "  Responses: 2\n",
            " \n",
            "Intent: HeatStroke\n",
            "  Patterns: 4\n",
            "  Responses: 2\n",
            " \n",
            "Intent: InsectBites\n",
            "  Patterns: 5\n",
            "  Responses: 2\n",
            " \n",
            "Intent: NoseBleed\n",
            "  Patterns: 4\n",
            "  Responses: 2\n",
            " \n",
            "Intent: PulledMuscle\n",
            "  Patterns: 4\n",
            "  Responses: 2\n",
            " \n",
            "Intent: RectalBleeding\n",
            "  Patterns: 4\n",
            "  Responses: 1\n",
            " \n",
            "Intent: SunBurn\n",
            "  Patterns: 4\n",
            "  Responses: 1\n",
            " \n",
            "Intent: TesticlePain\n",
            "  Patterns: 4\n",
            "  Responses: 1\n",
            " \n",
            "Intent: Vertigo\n",
            "  Patterns: 4\n",
            "  Responses: 1\n",
            " \n",
            "Intent: NormalBleeding\n",
            "  Patterns: 4\n",
            "  Responses: 1\n",
            " \n",
            "Intent: EyeInjury\n",
            "  Patterns: 4\n",
            "  Responses: 2\n",
            " \n",
            "Intent: ChemicalBurn\n",
            "  Patterns: 4\n",
            "  Responses: 1\n",
            " \n",
            "Intent: Poisoning\n",
            "  Patterns: 4\n",
            "  Responses: 2\n",
            " \n",
            "Intent: TeethInjury\n",
            "  Patterns: 4\n",
            "  Responses: 2\n",
            " \n",
            "Intent: Seizure\n",
            "  Patterns: 4\n",
            "  Responses: 2\n",
            " \n",
            "Intent: HeadInjury\n",
            "  Patterns: 5\n",
            "  Responses: 2\n",
            " \n",
            "Intent: Fainting\n",
            "  Patterns: 4\n",
            "  Responses: 2\n",
            " \n",
            "Intent: Headache\n",
            "  Patterns: 4\n",
            "  Responses: 2\n",
            " \n",
            "Intent: Cold\n",
            "  Patterns: 4\n",
            "  Responses: 2\n",
            " \n",
            "Intent: Rash\n",
            "  Patterns: 4\n",
            "  Responses: 1\n",
            " \n",
            "Intent: SnakeBite\n",
            "  Patterns: 4\n",
            "  Responses: 1\n",
            " \n",
            "Intent: AnimalBite\n",
            "  Patterns: 5\n",
            "  Responses: 2\n",
            " \n",
            "Intent: Drowning\n",
            "  Patterns: 5\n",
            "  Responses: 2\n",
            " \n",
            "Intent: CPR\n",
            "  Patterns: 5\n",
            "  Responses: 2\n",
            " \n",
            "Intent: Fracture\n",
            "  Patterns: 4\n",
            "  Responses: 2\n",
            " \n",
            "Intent: ElectricShock\n",
            "  Patterns: 4\n",
            "  Responses: 1\n",
            " \n",
            "Intent: SmokeInhalation\n",
            "  Patterns: 4\n",
            "  Responses: 2\n",
            " \n",
            "Intent: Hypothermia\n",
            "  Patterns: 4\n",
            "  Responses: 2\n",
            " \n",
            "Intent: EarthquakeInjury\n",
            "  Patterns: 4\n",
            "  Responses: 2\n",
            " \n",
            "Intent: FireInjury\n",
            "  Patterns: 4\n",
            "  Responses: 1\n",
            " \n",
            "Intent: TsunamiSafety\n",
            "  Patterns: 4\n",
            "  Responses: 2\n",
            " \n",
            "Intent: TornadoSafety\n",
            "  Patterns: 4\n",
            "  Responses: 2\n",
            " \n",
            "Intent: FloodSafety\n",
            "  Patterns: 4\n",
            "  Responses: 2\n",
            " \n",
            "Intent: SnakeInvasionDisaster\n",
            "  Patterns: 4\n",
            "  Responses: 2\n",
            " \n",
            "Intent: MassCasualtyTriage\n",
            "  Patterns: 4\n",
            "  Responses: 2\n",
            " \n",
            "Intent: Shock\n",
            "  Patterns: 4\n",
            "  Responses: 2\n",
            " \n",
            "Intent: Burns\n",
            "  Patterns: 5\n",
            "  Responses: 2\n",
            " \n",
            "How many tags has empty Responses\n",
            "  0 tags\n"
          ]
        }
      ],
      "source": [
        "print(\"Patterns and responses in each tag\")\n",
        "\n",
        "for intent in data[\"intents\"]:\n",
        "    print(f\"Intent: {intent['tag']}\")\n",
        "    print(f\"  Patterns: {len(intent['patterns'])}\")\n",
        "    print(f\"  Responses: {len(intent['responses'])}\")\n",
        "    print(\" \")\n",
        "\n",
        "print(\"How many tags has empty Responses\")\n",
        "empty_tags = 0\n",
        "for intent in data[\"intents\"]:\n",
        "    for response in intent[\"responses\"]:\n",
        "        if not response.strip():\n",
        "            empty_tags\n",
        "            empty_tags += 1\n",
        "            break\n",
        "print(f\"  {empty_tags} tags\")"
      ]
    },
    {
      "cell_type": "markdown",
      "metadata": {
        "id": "_YSl3y3aFnfu"
      },
      "source": [
        "### Visualizing raw data"
      ]
    },
    {
      "cell_type": "code",
      "execution_count": 12,
      "metadata": {
        "colab": {
          "base_uri": "https://localhost:8080/",
          "height": 447
        },
        "id": "2uLU581iFuuc",
        "outputId": "94a2c3d5-c828-4663-f5ef-9d8cbde1a90c"
      },
      "outputs": [
        {
          "data": {
            "image/png": "[encoded data removed]",
            "text/plain": [
              "<Figure size 1400x500 with 2 Axes>"
            ]
          },
          "metadata": {},
          "output_type": "display_data"
        }
      ],
      "source": [
        "import matplotlib.pyplot as plt\n",
        "import numpy as np\n",
        "\n",
        "all_response_lengths = []\n",
        "intent_pattern_counts = {}\n",
        "\n",
        "for intent in data[\"intents\"]:\n",
        "    tag = intent['tag']\n",
        "    patterns = intent['patterns']\n",
        "    responses = intent['responses']\n",
        "\n",
        "    intent_pattern_counts[tag] = len(patterns)\n",
        "\n",
        "    for response in responses:\n",
        "        all_response_lengths.append(len(response))\n",
        "\n",
        "sorted_intents = sorted(intent_pattern_counts.items(), key=lambda x: x[1], reverse=True)[:15]\n",
        "top_tags = [item[0] for item in sorted_intents]\n",
        "top_counts = [item[1] for item in sorted_intents]\n",
        "\n",
        "fig, axes = plt.subplots(1, 2, figsize=(14, 5))\n",
        "\n",
        "axes[0].hist(all_response_lengths, bins=30, color='lightgreen', edgecolor='black', alpha=0.7)\n",
        "axes[0].axvline(np.mean(all_response_lengths), color='red', linestyle='--',\n",
        "                label=f'Mean: {np.mean(all_response_lengths):.1f}')\n",
        "axes[0].set_xlabel('Response Length (chars)', fontweight='bold')\n",
        "axes[0].set_ylabel('Frequency', fontweight='bold')\n",
        "axes[0].set_title('Response Length Distribution', fontweight='bold')\n",
        "axes[0].legend()\n",
        "axes[0].grid(axis='y', alpha=0.3)\n",
        "\n",
        "axes[1].barh(range(len(top_tags)), top_counts, color='steelblue')\n",
        "axes[1].set_yticks(range(len(top_tags)))\n",
        "axes[1].set_yticklabels(top_tags, fontsize=9)\n",
        "axes[1].set_xlabel('Number of Patterns', fontweight='bold')\n",
        "axes[1].set_title('Samples per Intent (Top 15)', fontweight='bold')\n",
        "axes[1].grid(axis='x', alpha=0.3)\n",
        "\n",
        "plt.tight_layout()\n",
        "plt.show()"
      ]
    },
    {
      "cell_type": "markdown",
      "metadata": {
        "id": "H-rvrHYjDmkx"
      },
      "source": [
        "## Data Processing"
      ]
    },
    {
      "cell_type": "markdown",
      "metadata": {
        "id": "_wbRS05bDeI6"
      },
      "source": [
        "##### Data Augmentation"
      ]
    },
    {
      "cell_type": "code",
      "execution_count": null,
      "metadata": {
        "colab": {
          "base_uri": "https://localhost:8080/"
        },
        "id": "BWUsrYEei1xY",
        "outputId": "35755f39-6164-4f34-8aeb-9d8eb3a774d3"
      },
      "outputs": [
        {
          "name": "stdout",
          "output_type": "stream",
          "text": [
            "✓ Created 4095 training samples\n",
            "✓ Unique patterns: 2250\n",
            "✓ Unique intents: 56\n"
          ]
        }
      ],
      "source": [
        "def create_clean_variants(pattern):\n",
        "    \"\"\"Generate grammatically correct variants\"\"\"\n",
        "    pattern = pattern.strip().rstrip('?')\n",
        "    pattern_lower = pattern.lower()\n",
        "\n",
        "    variants = [pattern]\n",
        "\n",
        "    if not pattern.endswith('?'):\n",
        "        variants.append(f\"{pattern}?\")\n",
        "\n",
        "    variants.extend([\n",
        "        f\"How do I {pattern_lower}\",\n",
        "        f\"What should I do for {pattern_lower}\",\n",
        "        f\"Help me with {pattern_lower}\",\n",
        "        f\"I need help with {pattern_lower}\",\n",
        "        f\"Can you help with {pattern_lower}\"\n",
        "    ])\n",
        "\n",
        "    variants.extend([\n",
        "        f\"Emergency: {pattern_lower}\",\n",
        "        f\"Urgent help needed for {pattern_lower}\"\n",
        "    ])\n",
        "\n",
        "    return list(set(variants))\n",
        "\n",
        "rows = []\n",
        "for intent in data[\"intents\"]:\n",
        "    tag = intent[\"tag\"]\n",
        "    responses = [r.strip() for r in intent[\"responses\"] if r.strip() and len(r.strip()) > 20]\n",
        "\n",
        "    if not responses:\n",
        "        continue\n",
        "\n",
        "    for pattern in intent[\"patterns\"]:\n",
        "        pattern_variants = create_clean_variants(pattern.strip())\n",
        "\n",
        "        for variant in pattern_variants:\n",
        "            for response in responses:\n",
        "                rows.append({\n",
        "                    \"tag\": tag,\n",
        "                    \"pattern\": variant,\n",
        "                    \"response\": response\n",
        "                })\n",
        "\n",
        "df = pd.DataFrame(rows)\n",
        "print(f\"✓ Created {len(df)} training samples\")\n",
        "print(f\"✓ Unique patterns: {df['pattern'].nunique()}\")\n",
        "print(f\"✓ Unique intents: {df['tag'].nunique()}\")"
      ]
    },
    {
      "cell_type": "markdown",
      "metadata": {
        "id": "vQfGoKyJDUKo"
      },
      "source": [
        "#### Data Cleaning"
      ]
    },
    {
      "cell_type": "code",
      "execution_count": null,
      "metadata": {
        "colab": {
          "base_uri": "https://localhost:8080/"
        },
        "id": "dhH4TuARjAKD",
        "outputId": "c2aa5946-e6c0-432a-ce6d-541ed71f9b2d"
      },
      "outputs": [
        {
          "name": "stdout",
          "output_type": "stream",
          "text": [
            "Cleaned dataset: 4095 samples\n",
            "Average pattern length: 39.3 chars\n",
            "Average response length: 277.1 chars\n"
          ]
        }
      ],
      "source": [
        "def clean_text(text):\n",
        "    \"\"\"Clean and normalize text\"\"\"\n",
        "    text = str(text).strip()\n",
        "\n",
        "    replacements = {\n",
        "        'â€™': \"'\", 'â€œ': '\"', 'â€\\x9d': '\"',\n",
        "        'Ã¢â‚¬â„¢': \"'\", 'â€\"': '-', 'â€¦': '...',\n",
        "        'Â°': '°', 'Â½': '1/2'\n",
        "    }\n",
        "    for old, new in replacements.items():\n",
        "        text = text.replace(old, new)\n",
        "\n",
        "    text = re.sub(r'[^\\w\\s\\.\\,\\?\\!\\-\\:\\(\\)\\/°]', '', text)\n",
        "    text = re.sub(r'\\s+', ' ', text)\n",
        "    text = re.sub(r'\\.{2,}', '.', text)\n",
        "\n",
        "    return text.strip()\n",
        "\n",
        "df[\"pattern\"] = df[\"pattern\"].apply(clean_text)\n",
        "df[\"response\"] = df[\"response\"].apply(clean_text)\n",
        "\n",
        "df = df[\n",
        "    (df['pattern'].str.len() >= 5) &\n",
        "    (df['response'].str.len() >= 30) &\n",
        "    (df['pattern'].str.strip() != '') &\n",
        "    (df['response'].str.strip() != '')\n",
        "]\n",
        "\n",
        "# Remove exact duplicates\n",
        "df.drop_duplicates(subset=[\"pattern\", \"response\"], inplace=True)\n",
        "df.reset_index(drop=True, inplace=True)\n",
        "\n",
        "print(f\"Cleaned dataset: {len(df)} samples\")\n",
        "print(f\"Average pattern length: {df['pattern'].str.len().mean():.1f} chars\")\n",
        "print(f\"Average response length: {df['response'].str.len().mean():.1f} chars\")"
      ]
    },
    {
      "cell_type": "markdown",
      "metadata": {
        "id": "b-7ITrSCDL95"
      },
      "source": [
        "Cleaned Dataset Visualization"
      ]
    },
    {
      "cell_type": "code",
      "execution_count": null,
      "metadata": {
        "colab": {
          "base_uri": "https://localhost:8080/",
          "height": 1000
        },
        "id": "S3STFWyJjHZ6",
        "outputId": "bad3c3be-225f-4b3b-e7bb-558756fe9fc7"
      },
      "outputs": [
        {
          "data": {
            "image/png": "[encoded data removed]",
            "text/plain": [
              "<Figure size 1400x1000 with 4 Axes>"
            ]
          },
          "metadata": {},
          "output_type": "display_data"
        },
        {
          "name": "stdout",
          "output_type": "stream",
          "text": [
            "\n",
            "Dataset visualization\n"
          ]
        }
      ],
      "source": [
        "fig, axes = plt.subplots(2, 2, figsize=(14, 10))\n",
        "\n",
        "# Intent distribution\n",
        "intent_counts = df['tag'].value_counts().head(15)\n",
        "axes[0, 0].barh(range(len(intent_counts)), intent_counts.values, color='steelblue')\n",
        "axes[0, 0].set_yticks(range(len(intent_counts)))\n",
        "axes[0, 0].set_yticklabels(intent_counts.index, fontsize=9)\n",
        "axes[0, 0].set_xlabel('Sample Count', fontweight='bold')\n",
        "axes[0, 0].set_title('Top 15 Intent Distribution', fontweight='bold')\n",
        "axes[0, 0].grid(axis='x', alpha=0.3)\n",
        "\n",
        "# Pattern length\n",
        "df['pattern_len'] = df['pattern'].str.len()\n",
        "axes[0, 1].hist(df['pattern_len'], bins=30, color='coral', edgecolor='black', alpha=0.7)\n",
        "axes[0, 1].axvline(df['pattern_len'].mean(), color='red', linestyle='--',\n",
        "                   label=f'Mean: {df[\"pattern_len\"].mean():.1f}')\n",
        "axes[0, 1].set_xlabel('Pattern Length (chars)', fontweight='bold')\n",
        "axes[0, 1].set_ylabel('Frequency', fontweight='bold')\n",
        "axes[0, 1].set_title('Pattern Length Distribution', fontweight='bold')\n",
        "axes[0, 1].legend()\n",
        "axes[0, 1].grid(axis='y', alpha=0.3)\n",
        "\n",
        "# Response length\n",
        "df['response_len'] = df['response'].str.len()\n",
        "axes[1, 0].hist(df['response_len'], bins=30, color='lightgreen', edgecolor='black', alpha=0.7)\n",
        "axes[1, 0].axvline(df['response_len'].mean(), color='red', linestyle='--',\n",
        "                   label=f'Mean: {df[\"response_len\"].mean():.1f}')\n",
        "axes[1, 0].set_xlabel('Response Length (chars)', fontweight='bold')\n",
        "axes[1, 0].set_ylabel('Frequency', fontweight='bold')\n",
        "axes[1, 0].set_title('Response Length Distribution', fontweight='bold')\n",
        "axes[1, 0].legend()\n",
        "axes[1, 0].grid(axis='y', alpha=0.3)\n",
        "\n",
        "# Samples per intent\n",
        "axes[1, 1].bar(range(len(intent_counts)), intent_counts.values, color='plum', edgecolor='black')\n",
        "axes[1, 1].axhline(intent_counts.mean(), color='red', linestyle='--',\n",
        "                   label=f'Mean: {intent_counts.mean():.1f}')\n",
        "axes[1, 1].set_xlabel('Intent Rank', fontweight='bold')\n",
        "axes[1, 1].set_ylabel('Sample Count', fontweight='bold')\n",
        "axes[1, 1].set_title('Samples per Intent (Top 15)', fontweight='bold')\n",
        "axes[1, 1].legend()\n",
        "axes[1, 1].grid(axis='y', alpha=0.3)\n",
        "\n",
        "plt.tight_layout()\n",
        "plt.show()"
      ]
    },
    {
      "cell_type": "markdown",
      "metadata": {
        "id": "sgrc2g4UC-eb"
      },
      "source": [
        "## Initialize DistilGPT-2 Model"
      ]
    },
    {
      "cell_type": "code",
      "execution_count": null,
      "metadata": {
        "colab": {
          "base_uri": "https://localhost:8080/",
          "height": 315,
          "referenced_widgets": [
            "8c58fb4f4179473898f4d8d4e28ff223",
            "6f859f101b274d828ffe1c4e2fa163cc",
            "f4d40ecf53e94e26a69a47fdc828179a",
            "38d6611623f6408281ea5704eab2212b",
            "573cef7f5c3c46d192ba124bb94274b5",
            "517454a32f8e4e63856eb89798c5a797",
            "557ada1b8a45414487666dec0d0a1f62",
            "b9fd507c382145dda6a7e8479c2e58d2",
            "6b09eb31bd694ba083b177bbefed3bf5",
            "508f9bb7e6b148e880e36ca8b38e7cde",
            "788b3beddc4a42bc985229ee290dca83",
            "70071d5b4b19492a8d990f3ec88550b5",
            "75de021674224497b08775f52e7466e6",
            "f29b221458cd40b69bda5182977e95fc",
            "03c463f38f24434fa22f229ece0dfb11",
            "2ef79fd252894b56ad5033ef5976d3d2",
            "73703769566b433489222cce846fc04b",
            "f63240caf4ec445d91f5102c3e03a200",
            "f54c0609cf024f00a61099ce556e51fa",
            "91677e7c300c4067a5e77dfb10054e7b",
            "31bea572cd6a4d9eb782144dce749572",
            "c850c79ebeeb4d6ba507d6cadf21351c",
            "fc646d4324cf4184b46f8e34faf68784",
            "6bfdbb6210254dd38e4d8903d8071bd2",
            "5372513c92414a40b4ca6a0d8590aa4b",
            "9cab4edf53b94fc4bcd88361b9ae2c4f",
            "7ebe865d5e324e9aae9d9a0289e7b5aa",
            "68a4d4bc109e4284927269d0ce4103fd",
            "db22fe734957402489ad2fe1e8506478",
            "51273b6886c0462cbd8fcff6252c5de4",
            "6886da1f590846d5a3bc33d15d6500e8",
            "acd3543bf15b4684bf6262e1321e5b2f",
            "1b3ce834b0a64d189b89cd381943ce50",
            "999168b711ce4f99998905e956c936af",
            "7cfccfa2fbdc4733bb62967e8ba7403e",
            "c9c06305bf094da1b9fbeb326aea6240",
            "2b92498a48444d42ae0c6e854a7fb530",
            "438497b94f1144308f703e343e4229a7",
            "c126374458814b64b05dc8f6742e4d60",
            "4f71f56286174d06bb27a1013204e8f9",
            "acf2e2241e14432ebb15dbb10731dc3d",
            "d270577c48bf46edade235a05dd27402",
            "734030c755cd4eac8e9a29a4d0d4277a",
            "1327049eaef049f19e44a6b0fded829b",
            "50edddec9f8b49f6b42ceef36b478000",
            "a9ec157589eb4e8aa2de53f5f4c843dd",
            "53cc2c9bdd9d446ab7adb522c30fc787",
            "636b5f7aa35b4285a6506a78134559bb",
            "d311e2d7efd7431f8a0ee746a33a8ba6",
            "cc1d96a350924c96821ab6b8a63efe5c",
            "fba675967c334ccbb31f8a7346ae91c6",
            "dac3799181ff4259bcce6efb08d166be",
            "ce33bab1a66c420c92899d01af629579",
            "173a587a186b4186a6c0e1f9fcfc7e35",
            "a003fc1c14a541f487cb455385bfdaad",
            "43fc47af127542ba9ce926f9836ebb0f",
            "894609c106c94fc68fe9b4e6cc9ea9fb",
            "5a6913b839bc48dbad42036ef6a6df2d",
            "9ae5b45a722e404eb390a763de0beef2",
            "0fbc0ba697544af08846aa347cfa7d6c",
            "abd78222a0c841debf53e1ebdf572078",
            "48e5b452f5cd4eac93070c31b0a0e24e",
            "d3210e8a0e7f4af4920e2567e9e832f3",
            "e6822e37ea1140ff8b1520562834b727",
            "684d16e76098457e928049726c2788b1",
            "8f96cf21412c4801bb5512d4f9f3bd98",
            "c4fc797456b84e0cb6889d44a2ee60a6",
            "bc14f22c4e4248bbbd67ad0fe4ed92d5",
            "42914bb8a8c442b7bfe6a9a936c99775",
            "c0df962c90d04a14a62af686501d03a3",
            "a6b6089a13a64de99d0f1a96162f6a8d",
            "3e0b99bf67094f6b9e019e585ac26cb1",
            "aa869b470fa4486e91f546e27c041780",
            "766e0be39cbe4d54bbb39cac02376b40",
            "bd88af2204c849f2845d1f26a1debb89",
            "3c8dd7de39d34b2b9e71f5b09ad3b066",
            "2ecdaa2cf87347b3b65297d4732813a6"
          ]
        },
        "id": "DTy_UVTqjLad",
        "outputId": "cd0fb63f-83b0-4090-f4cb-47ba834faa79"
      },
      "outputs": [
        {
          "data": {
            "application/vnd.jupyter.widget-view+json": {
              "model_id": "8c58fb4f4179473898f4d8d4e28ff223",
              "version_major": 2,
              "version_minor": 0
            },
            "text/plain": [
              "tokenizer_config.json:   0%|          | 0.00/26.0 [00:00<?, ?B/s]"
            ]
          },
          "metadata": {},
          "output_type": "display_data"
        },
        {
          "data": {
            "application/vnd.jupyter.widget-view+json": {
              "model_id": "70071d5b4b19492a8d990f3ec88550b5",
              "version_major": 2,
              "version_minor": 0
            },
            "text/plain": [
              "vocab.json:   0%|          | 0.00/1.04M [00:00<?, ?B/s]"
            ]
          },
          "metadata": {},
          "output_type": "display_data"
        },
        {
          "data": {
            "application/vnd.jupyter.widget-view+json": {
              "model_id": "fc646d4324cf4184b46f8e34faf68784",
              "version_major": 2,
              "version_minor": 0
            },
            "text/plain": [
              "merges.txt:   0%|          | 0.00/456k [00:00<?, ?B/s]"
            ]
          },
          "metadata": {},
          "output_type": "display_data"
        },
        {
          "data": {
            "application/vnd.jupyter.widget-view+json": {
              "model_id": "999168b711ce4f99998905e956c936af",
              "version_major": 2,
              "version_minor": 0
            },
            "text/plain": [
              "tokenizer.json:   0%|          | 0.00/1.36M [00:00<?, ?B/s]"
            ]
          },
          "metadata": {},
          "output_type": "display_data"
        },
        {
          "data": {
            "application/vnd.jupyter.widget-view+json": {
              "model_id": "50edddec9f8b49f6b42ceef36b478000",
              "version_major": 2,
              "version_minor": 0
            },
            "text/plain": [
              "config.json:   0%|          | 0.00/762 [00:00<?, ?B/s]"
            ]
          },
          "metadata": {},
          "output_type": "display_data"
        },
        {
          "data": {
            "application/vnd.jupyter.widget-view+json": {
              "model_id": "43fc47af127542ba9ce926f9836ebb0f",
              "version_major": 2,
              "version_minor": 0
            },
            "text/plain": [
              "model.safetensors:   0%|          | 0.00/353M [00:00<?, ?B/s]"
            ]
          },
          "metadata": {},
          "output_type": "display_data"
        },
        {
          "data": {
            "application/vnd.jupyter.widget-view+json": {
              "model_id": "c4fc797456b84e0cb6889d44a2ee60a6",
              "version_major": 2,
              "version_minor": 0
            },
            "text/plain": [
              "generation_config.json:   0%|          | 0.00/124 [00:00<?, ?B/s]"
            ]
          },
          "metadata": {},
          "output_type": "display_data"
        },
        {
          "name": "stdout",
          "output_type": "stream",
          "text": [
            "✓ Model: distilgpt2\n",
            "✓ Device: cuda\n",
            "✓ Parameters: 81,912,576\n",
            "✓ Vocab size: 50257\n"
          ]
        }
      ],
      "source": [
        "model_name = \"distilgpt2\"\n",
        "tokenizer = GPT2Tokenizer.from_pretrained(model_name)\n",
        "\n",
        "tokenizer.pad_token = tokenizer.eos_token\n",
        "tokenizer.padding_side = \"left\"\n",
        "\n",
        "model = GPT2LMHeadModel.from_pretrained(model_name)\n",
        "model.config.pad_token_id = tokenizer.pad_token_id\n",
        "\n",
        "device = \"cuda\" if torch.cuda.is_available() else \"cpu\"\n",
        "model = model.to(device)\n",
        "\n",
        "print(f\"✓ Model: {model_name}\")\n",
        "print(f\"✓ Device: {device}\")\n",
        "print(f\"✓ Parameters: {model.num_parameters():,}\")\n",
        "print(f\"✓ Vocab size: {len(tokenizer)}\")"
      ]
    },
    {
      "cell_type": "markdown",
      "metadata": {
        "id": "wcuJSRiOCxGg"
      },
      "source": [
        "##### Format Data for GPT-2 (Conversational Format)"
      ]
    },
    {
      "cell_type": "code",
      "execution_count": null,
      "metadata": {
        "colab": {
          "base_uri": "https://localhost:8080/"
        },
        "id": "6zw3zLSSjSVK",
        "outputId": "cc611ddb-12cf-4a26-c73f-149a73cb36d5"
      },
      "outputs": [
        {
          "name": "stdout",
          "output_type": "stream",
          "text": [
            "Sample formatted conversations:\n",
            "======================================================================\n",
            "\n",
            "[Sample 1]\n",
            "<|user|> Help me with what to do if cuts<|assistant|> Wash the cut thoroughly with clean water and mild soap. Stop the bleeding by applying gentle pressure with a clean cloth or sterile gauze for 12 m...\n",
            "----------------------------------------------------------------------\n",
            "\n",
            "[Sample 2]\n",
            "<|user|> Help me with what to do if cuts<|assistant|> Always clean the wound first, then apply pressure to stop bleeding, moisturize with an ointment, and cover with a sterile dressing. Seek medical a...\n",
            "----------------------------------------------------------------------\n",
            "\n",
            "[Sample 3]\n",
            "<|user|> Can you help with what to do if cuts<|assistant|> Wash the cut thoroughly with clean water and mild soap. Stop the bleeding by applying gentle pressure with a clean cloth or sterile gauze for...\n",
            "----------------------------------------------------------------------\n"
          ]
        }
      ],
      "source": [
        "def format_conversation(pattern, response):\n",
        "    \"\"\"Format as conversational prompt-response\"\"\"\n",
        "    return f\"<|user|> {pattern}<|assistant|> {response}<|endoftext|>\"\n",
        "\n",
        "df['text'] = df.apply(lambda x: format_conversation(x['pattern'], x['response']), axis=1)\n",
        "\n",
        "print(\"Sample formatted conversations:\")\n",
        "print(\"=\"*70)\n",
        "for i in range(3):\n",
        "    print(f\"\\n[Sample {i+1}]\")\n",
        "    print(df['text'].iloc[i][:200] + \"...\")\n",
        "    print(\"-\"*70)"
      ]
    },
    {
      "cell_type": "markdown",
      "metadata": {
        "id": "93Aua33ICkMM"
      },
      "source": [
        "## Tokenization"
      ]
    },
    {
      "cell_type": "code",
      "execution_count": null,
      "metadata": {
        "colab": {
          "base_uri": "https://localhost:8080/"
        },
        "id": "dzSzs5amjYs-",
        "outputId": "92f947fe-9e37-47fe-e0df-703a130cb234"
      },
      "outputs": [
        {
          "name": "stdout",
          "output_type": "stream",
          "text": [
            "Max sequence length: 256\n",
            "Tokenization function ready\n"
          ]
        }
      ],
      "source": [
        "MAX_LENGTH = 256\n",
        "\n",
        "def tokenize_function(examples):\n",
        "    \"\"\"Tokenize with proper padding and truncation\"\"\"\n",
        "    tokenized = tokenizer(\n",
        "        examples[\"text\"],\n",
        "        truncation=True,\n",
        "        max_length=MAX_LENGTH,\n",
        "        padding=\"max_length\",\n",
        "        return_tensors=None\n",
        "    )\n",
        "\n",
        "    # For causal LM, labels = input_ids\n",
        "    tokenized[\"labels\"] = tokenized[\"input_ids\"].copy()\n",
        "\n",
        "    return tokenized\n",
        "\n",
        "print(f\"Max sequence length: {MAX_LENGTH}\")\n",
        "print(\"Tokenization function ready\")"
      ]
    },
    {
      "cell_type": "markdown",
      "metadata": {
        "id": "IMXCFPSlCfL8"
      },
      "source": [
        "## Split the data"
      ]
    },
    {
      "cell_type": "code",
      "execution_count": null,
      "metadata": {
        "colab": {
          "base_uri": "https://localhost:8080/"
        },
        "id": "sJygH74CjZnR",
        "outputId": "04a8f635-92c1-43c2-84bf-c163be4709d9"
      },
      "outputs": [
        {
          "name": "stdout",
          "output_type": "stream",
          "text": [
            "✓ Using stratified split\n",
            "✓ Training samples: 3480\n",
            "✓ Test samples: 615\n",
            "✓ Split ratio: 5.66\n"
          ]
        }
      ],
      "source": [
        "try:\n",
        "    train_df, test_df = train_test_split(\n",
        "        df,\n",
        "        test_size=0.15,\n",
        "        random_state=42,\n",
        "        stratify=df['tag']\n",
        "    )\n",
        "    print(\"✓ Using stratified split\")\n",
        "except:\n",
        "    train_df, test_df = train_test_split(\n",
        "        df,\n",
        "        test_size=0.15,\n",
        "        random_state=42\n",
        "    )\n",
        "    print(\"✓ Using random split\")\n",
        "\n",
        "print(f\"✓ Training samples: {len(train_df)}\")\n",
        "print(f\"✓ Test samples: {len(test_df)}\")\n",
        "print(f\"✓ Split ratio: {len(train_df)/len(test_df):.2f}\")"
      ]
    },
    {
      "cell_type": "markdown",
      "metadata": {
        "id": "8oLQQgXkCbHL"
      },
      "source": [
        "#### Tokenize Datasets"
      ]
    },
    {
      "cell_type": "code",
      "execution_count": null,
      "metadata": {
        "colab": {
          "base_uri": "https://localhost:8080/",
          "height": 155,
          "referenced_widgets": [
            "12e24e6af61b47d9ad9fd959bc231c44",
            "d40b7eba283244f5b9182540ba7c7929",
            "9b607c069cb64e1386b979a6d90c962e",
            "f77bf4147c8b4e799321d77bf06ecf54",
            "6e830cef8b084ac2ace73e3bb9a33a85",
            "767b07291bbf4a0a8c9f367c623e1df4",
            "0888e8d240134437b04542e1e1719894",
            "e4cb5144fc8e432cbc87337c1b22f60d",
            "6a02c9f18ce44cffad2fa421a63df04c",
            "4b76d062b5064cfb83db894c0576aca4",
            "8b3781c9c6654c02b799e8e2e1fffc50",
            "d1ff94a49f6e4da889eb4d351e6924d4",
            "5f33458fa3ab483b8bbc39b92acd03cc",
            "befbc79c323e49199efa50e6f7e2068e",
            "f2afb3efe56f482693159c6b0ad4e682",
            "d57c703a1b284031abe47e7164632f88",
            "25236c624ee44d4981d083b042301cba",
            "04266bf87aa64046b87551ea838f6886",
            "e46235bbffcc44cf8c462f9d7b297bb9",
            "7121f72c43914847928b58e34a5178d1",
            "81f667877d644e5d81cacc1b32fc5794",
            "77d44008f57a44ed9a7179ab96cd43e2"
          ]
        },
        "id": "aMOGwL0ijg7t",
        "outputId": "e14abfd9-aa3f-445f-8fd1-0688a8cf1b19"
      },
      "outputs": [
        {
          "name": "stdout",
          "output_type": "stream",
          "text": [
            "Tokenizing datasets...\n"
          ]
        },
        {
          "data": {
            "application/vnd.jupyter.widget-view+json": {
              "model_id": "12e24e6af61b47d9ad9fd959bc231c44",
              "version_major": 2,
              "version_minor": 0
            },
            "text/plain": [
              "Tokenizing train:   0%|          | 0/3480 [00:00<?, ? examples/s]"
            ]
          },
          "metadata": {},
          "output_type": "display_data"
        },
        {
          "data": {
            "application/vnd.jupyter.widget-view+json": {
              "model_id": "d1ff94a49f6e4da889eb4d351e6924d4",
              "version_major": 2,
              "version_minor": 0
            },
            "text/plain": [
              "Tokenizing test:   0%|          | 0/615 [00:00<?, ? examples/s]"
            ]
          },
          "metadata": {},
          "output_type": "display_data"
        },
        {
          "name": "stdout",
          "output_type": "stream",
          "text": [
            "Tokenization complete\n",
            "Train dataset: 3480 samples\n",
            "Test dataset: 615 samples\n"
          ]
        }
      ],
      "source": [
        "train_dataset = Dataset.from_pandas(\n",
        "    train_df[['text']].reset_index(drop=True)\n",
        ")\n",
        "test_dataset = Dataset.from_pandas(\n",
        "    test_df[['text']].reset_index(drop=True)\n",
        ")\n",
        "\n",
        "print(\"Tokenizing datasets...\")\n",
        "train_dataset = train_dataset.map(\n",
        "    tokenize_function,\n",
        "    batched=True,\n",
        "    remove_columns=['text'],\n",
        "    desc=\"Tokenizing train\"\n",
        ")\n",
        "\n",
        "test_dataset = test_dataset.map(\n",
        "    tokenize_function,\n",
        "    batched=True,\n",
        "    remove_columns=['text'],\n",
        "    desc=\"Tokenizing test\"\n",
        ")\n",
        "\n",
        "print(\"Tokenization complete\")\n",
        "print(f\"Train dataset: {len(train_dataset)} samples\")\n",
        "print(f\"Test dataset: {len(test_dataset)} samples\")"
      ]
    },
    {
      "cell_type": "code",
      "execution_count": null,
      "metadata": {
        "colab": {
          "base_uri": "https://localhost:8080/"
        },
        "id": "5JdPkJfOjljI",
        "outputId": "601518a9-c3f1-4c9b-b30c-9a5319aded6b"
      },
      "outputs": [
        {
          "name": "stdout",
          "output_type": "stream",
          "text": [
            "Data collator ready\n"
          ]
        }
      ],
      "source": [
        "# Data Collator\n",
        "data_collator = DataCollatorForLanguageModeling(\n",
        "    tokenizer=tokenizer,\n",
        "    mlm=False\n",
        ")\n",
        "\n",
        "print(\"Data collator ready\")"
      ]
    },
    {
      "cell_type": "markdown",
      "metadata": {
        "id": "c3WelVv4CMuk"
      },
      "source": [
        "### Finding The Best Model\n",
        "**EXPERIMENT 1**"
      ]
    },
    {
      "cell_type": "code",
      "execution_count": null,
      "metadata": {
        "colab": {
          "base_uri": "https://localhost:8080/",
          "height": 530
        },
        "id": "AupwIGHyjs8h",
        "outputId": "af07d272-48b0-40bd-caf5-362cf09ea41f"
      },
      "outputs": [
        {
          "name": "stderr",
          "output_type": "stream",
          "text": [
            "The tokenizer has new PAD/BOS/EOS tokens that differ from the model config and generation config. The model config and generation config were aligned accordingly, being updated with the tokenizer's values. Updated tokens: {'pad_token_id': 50256}.\n"
          ]
        },
        {
          "name": "stdout",
          "output_type": "stream",
          "text": [
            "\n",
            "======================================================================\n",
            "EXPERIMENT 1: BASELINE CONFIGURATION\n",
            "======================================================================\n",
            "\n",
            "Starting Experiment 1...\n",
            "Config: LR=5e-5, Batch=4, GradAccum=4, Epochs=5\n"
          ]
        },
        {
          "name": "stderr",
          "output_type": "stream",
          "text": [
            "`loss_type=None` was set in the config but it is unrecognized. Using the default loss: `ForCausalLMLoss`.\n"
          ]
        },
        {
          "data": {
            "text/html": [
              "\n",
              "    <div>\n",
              "      \n",
              "      <progress value='1090' max='1090' style='width:300px; height:20px; vertical-align: middle;'></progress>\n",
              "      [1090/1090 08:31, Epoch 5/5]\n",
              "    </div>\n",
              "    <table border=\"1\" class=\"dataframe\">\n",
              "  <thead>\n",
              " <tr style=\"text-align: left;\">\n",
              "      <th>Epoch</th>\n",
              "      <th>Training Loss</th>\n",
              "      <th>Validation Loss</th>\n",
              "    </tr>\n",
              "  </thead>\n",
              "  <tbody>\n",
              "    <tr>\n",
              "      <td>1</td>\n",
              "      <td>2.754800</td>\n",
              "      <td>1.632588</td>\n",
              "    </tr>\n",
              "    <tr>\n",
              "      <td>2</td>\n",
              "      <td>0.948500</td>\n",
              "      <td>0.344185</td>\n",
              "    </tr>\n",
              "    <tr>\n",
              "      <td>3</td>\n",
              "      <td>0.357000</td>\n",
              "      <td>0.183340</td>\n",
              "    </tr>\n",
              "    <tr>\n",
              "      <td>4</td>\n",
              "      <td>0.237600</td>\n",
              "      <td>0.152514</td>\n",
              "    </tr>\n",
              "    <tr>\n",
              "      <td>5</td>\n",
              "      <td>0.197000</td>\n",
              "      <td>0.145280</td>\n",
              "    </tr>\n",
              "  </tbody>\n",
              "</table><p>"
            ],
            "text/plain": [
              "<IPython.core.display.HTML object>"
            ]
          },
          "metadata": {},
          "output_type": "display_data"
        },
        {
          "name": "stderr",
          "output_type": "stream",
          "text": [
            "There were missing keys in the checkpoint model loaded: ['lm_head.weight'].\n"
          ]
        },
        {
          "data": {
            "text/html": [
              "\n",
              "    <div>\n",
              "      \n",
              "      <progress value='154' max='154' style='width:300px; height:20px; vertical-align: middle;'></progress>\n",
              "      [154/154 00:05]\n",
              "    </div>\n",
              "    "
            ],
            "text/plain": [
              "<IPython.core.display.HTML object>"
            ]
          },
          "metadata": {},
          "output_type": "display_data"
        },
        {
          "name": "stdout",
          "output_type": "stream",
          "text": [
            "\n",
            "✓ Experiment 1 Complete\n",
            "  Train Loss: 1.2309\n",
            "  Eval Loss: 0.1453\n"
          ]
        }
      ],
      "source": [
        "# Baseline Configuration\n",
        "print(\"\\n\" + \"=\"*70)\n",
        "print(\"EXPERIMENT 1: BASELINE CONFIGURATION\")\n",
        "print(\"=\"*70)\n",
        "\n",
        "training_args_exp1 = TrainingArguments(\n",
        "    output_dir=\"./results_exp1\",\n",
        "    eval_strategy=\"epoch\",\n",
        "    save_strategy=\"epoch\",\n",
        "    learning_rate=5e-5,\n",
        "    per_device_train_batch_size=4,\n",
        "    per_device_eval_batch_size=4,\n",
        "    num_train_epochs=5,\n",
        "    weight_decay=0.01,\n",
        "    warmup_steps=200,\n",
        "    logging_steps=100,\n",
        "    save_total_limit=2,\n",
        "    load_best_model_at_end=True,\n",
        "    metric_for_best_model=\"eval_loss\",\n",
        "    greater_is_better=False,\n",
        "    fp16=torch.cuda.is_available(),\n",
        "    gradient_accumulation_steps=4,\n",
        "    max_grad_norm=1.0,\n",
        "    seed=42,\n",
        "    report_to=\"none\",\n",
        "    disable_tqdm=False\n",
        ")\n",
        "\n",
        "trainer_exp1 = Trainer(\n",
        "    model=model,\n",
        "    args=training_args_exp1,\n",
        "    train_dataset=train_dataset,\n",
        "    eval_dataset=test_dataset,\n",
        "    tokenizer=tokenizer,\n",
        "    data_collator=data_collator,\n",
        "    callbacks=[EarlyStoppingCallback(early_stopping_patience=2)]\n",
        ")\n",
        "\n",
        "print(\"\\nStarting Experiment 1...\")\n",
        "print(f\"Config: LR=5e-5, Batch=4, GradAccum=4, Epochs=5\")\n",
        "\n",
        "train_result_exp1 = trainer_exp1.train()\n",
        "eval_result_exp1 = trainer_exp1.evaluate()\n",
        "\n",
        "print(f\"\\nExperiment 1 Complete\")\n",
        "print(f\"  Train Loss: {train_result_exp1.metrics['train_loss']:.4f}\")\n",
        "print(f\"  Eval Loss: {eval_result_exp1['eval_loss']:.4f}\")"
      ]
    },
    {
      "cell_type": "markdown",
      "metadata": {
        "id": "hgDxYoygCGRY"
      },
      "source": [
        "**EXPERIMENT 2**"
      ]
    },
    {
      "cell_type": "code",
      "execution_count": null,
      "metadata": {
        "colab": {
          "base_uri": "https://localhost:8080/",
          "height": 512
        },
        "id": "KusEI9IDjugN",
        "outputId": "ae51fc51-533d-4afa-88f9-3a6ddc2332cf"
      },
      "outputs": [
        {
          "name": "stdout",
          "output_type": "stream",
          "text": [
            "\n",
            "======================================================================\n",
            "EXPERIMENT 2: HIGHER LEARNING RATE\n",
            "======================================================================\n"
          ]
        },
        {
          "name": "stderr",
          "output_type": "stream",
          "text": [
            "The tokenizer has new PAD/BOS/EOS tokens that differ from the model config and generation config. The model config and generation config were aligned accordingly, being updated with the tokenizer's values. Updated tokens: {'pad_token_id': 50256}.\n"
          ]
        },
        {
          "name": "stdout",
          "output_type": "stream",
          "text": [
            "\n",
            "Starting Experiment 2...\n",
            "Config: LR=1e-4, Batch=4, GradAccum=4, Epochs=5\n"
          ]
        },
        {
          "data": {
            "text/html": [
              "\n",
              "    <div>\n",
              "      \n",
              "      <progress value='1090' max='1090' style='width:300px; height:20px; vertical-align: middle;'></progress>\n",
              "      [1090/1090 08:53, Epoch 5/5]\n",
              "    </div>\n",
              "    <table border=\"1\" class=\"dataframe\">\n",
              "  <thead>\n",
              " <tr style=\"text-align: left;\">\n",
              "      <th>Epoch</th>\n",
              "      <th>Training Loss</th>\n",
              "      <th>Validation Loss</th>\n",
              "    </tr>\n",
              "  </thead>\n",
              "  <tbody>\n",
              "    <tr>\n",
              "      <td>1</td>\n",
              "      <td>2.054900</td>\n",
              "      <td>0.819975</td>\n",
              "    </tr>\n",
              "    <tr>\n",
              "      <td>2</td>\n",
              "      <td>0.325800</td>\n",
              "      <td>0.156407</td>\n",
              "    </tr>\n",
              "    <tr>\n",
              "      <td>3</td>\n",
              "      <td>0.160400</td>\n",
              "      <td>0.129222</td>\n",
              "    </tr>\n",
              "    <tr>\n",
              "      <td>4</td>\n",
              "      <td>0.131500</td>\n",
              "      <td>0.116836</td>\n",
              "    </tr>\n",
              "    <tr>\n",
              "      <td>5</td>\n",
              "      <td>0.117900</td>\n",
              "      <td>0.113614</td>\n",
              "    </tr>\n",
              "  </tbody>\n",
              "</table><p>"
            ],
            "text/plain": [
              "<IPython.core.display.HTML object>"
            ]
          },
          "metadata": {},
          "output_type": "display_data"
        },
        {
          "name": "stderr",
          "output_type": "stream",
          "text": [
            "There were missing keys in the checkpoint model loaded: ['lm_head.weight'].\n"
          ]
        },
        {
          "data": {
            "text/html": [
              "\n",
              "    <div>\n",
              "      \n",
              "      <progress value='154' max='154' style='width:300px; height:20px; vertical-align: middle;'></progress>\n",
              "      [154/154 00:05]\n",
              "    </div>\n",
              "    "
            ],
            "text/plain": [
              "<IPython.core.display.HTML object>"
            ]
          },
          "metadata": {},
          "output_type": "display_data"
        },
        {
          "name": "stdout",
          "output_type": "stream",
          "text": [
            "\n",
            "✓ Experiment 2 Complete\n",
            "  Train Loss: 0.8730\n",
            "  Eval Loss: 0.1136\n"
          ]
        }
      ],
      "source": [
        "# Higher Learning Rate\n",
        "print(\"\\n\" + \"=\"*70)\n",
        "print(\"EXPERIMENT 2: HIGHER LEARNING RATE\")\n",
        "print(\"=\"*70)\n",
        "\n",
        "model = GPT2LMHeadModel.from_pretrained(model_name)\n",
        "model.config.pad_token_id = tokenizer.pad_token_id\n",
        "model = model.to(device)\n",
        "\n",
        "training_args_exp2 = TrainingArguments(\n",
        "    output_dir=\"./results_exp2\",\n",
        "    eval_strategy=\"epoch\",\n",
        "    save_strategy=\"epoch\",\n",
        "    learning_rate=1e-4,  # Higher LR\n",
        "    per_device_train_batch_size=4,\n",
        "    per_device_eval_batch_size=4,\n",
        "    num_train_epochs=5,\n",
        "    weight_decay=0.01,\n",
        "    warmup_steps=200,\n",
        "    logging_steps=100,\n",
        "    save_total_limit=2,\n",
        "    load_best_model_at_end=True,\n",
        "    metric_for_best_model=\"eval_loss\",\n",
        "    greater_is_better=False,\n",
        "    fp16=torch.cuda.is_available(),\n",
        "    gradient_accumulation_steps=4,\n",
        "    max_grad_norm=1.0,\n",
        "    seed=42,\n",
        "    report_to=\"none\",\n",
        "    disable_tqdm=False\n",
        ")\n",
        "\n",
        "trainer_exp2 = Trainer(\n",
        "    model=model,\n",
        "    args=training_args_exp2,\n",
        "    train_dataset=train_dataset,\n",
        "    eval_dataset=test_dataset,\n",
        "    tokenizer=tokenizer,\n",
        "    data_collator=data_collator,\n",
        "    callbacks=[EarlyStoppingCallback(early_stopping_patience=2)]\n",
        ")\n",
        "\n",
        "print(\"\\nStarting Experiment 2...\")\n",
        "print(f\"Config: LR=1e-4, Batch=4, GradAccum=4, Epochs=5\")\n",
        "\n",
        "train_result_exp2 = trainer_exp2.train()\n",
        "eval_result_exp2 = trainer_exp2.evaluate()\n",
        "\n",
        "print(f\"\\nExperiment 2 Complete\")\n",
        "print(f\"  Train Loss: {train_result_exp2.metrics['train_loss']:.4f}\")\n",
        "print(f\"  Eval Loss: {eval_result_exp2['eval_loss']:.4f}\")"
      ]
    },
    {
      "cell_type": "markdown",
      "metadata": {
        "id": "3h9IdVN9B-Y6"
      },
      "source": [
        "**EXPERIMENT 3**"
      ]
    },
    {
      "cell_type": "code",
      "execution_count": null,
      "metadata": {
        "colab": {
          "base_uri": "https://localhost:8080/",
          "height": 606
        },
        "id": "iWe75xOujzoa",
        "outputId": "34f34945-ada8-472d-ce0d-5a14b4becb91"
      },
      "outputs": [
        {
          "name": "stdout",
          "output_type": "stream",
          "text": [
            "\n",
            "======================================================================\n",
            "EXPERIMENT 3: OPTIMIZED CONFIGURATION (BEST)\n",
            "======================================================================\n"
          ]
        },
        {
          "name": "stderr",
          "output_type": "stream",
          "text": [
            "The tokenizer has new PAD/BOS/EOS tokens that differ from the model config and generation config. The model config and generation config were aligned accordingly, being updated with the tokenizer's values. Updated tokens: {'pad_token_id': 50256}.\n"
          ]
        },
        {
          "name": "stdout",
          "output_type": "stream",
          "text": [
            "\n",
            "Starting Experiment 3...\n",
            "Config: LR=3e-5, Batch=8, GradAccum=2, Epochs=8\n"
          ]
        },
        {
          "data": {
            "text/html": [
              "\n",
              "    <div>\n",
              "      \n",
              "      <progress value='1744' max='1744' style='width:300px; height:20px; vertical-align: middle;'></progress>\n",
              "      [1744/1744 12:39, Epoch 8/8]\n",
              "    </div>\n",
              "    <table border=\"1\" class=\"dataframe\">\n",
              "  <thead>\n",
              " <tr style=\"text-align: left;\">\n",
              "      <th>Epoch</th>\n",
              "      <th>Training Loss</th>\n",
              "      <th>Validation Loss</th>\n",
              "    </tr>\n",
              "  </thead>\n",
              "  <tbody>\n",
              "    <tr>\n",
              "      <td>1</td>\n",
              "      <td>3.326900</td>\n",
              "      <td>2.470672</td>\n",
              "    </tr>\n",
              "    <tr>\n",
              "      <td>2</td>\n",
              "      <td>1.696400</td>\n",
              "      <td>1.072297</td>\n",
              "    </tr>\n",
              "    <tr>\n",
              "      <td>3</td>\n",
              "      <td>0.706600</td>\n",
              "      <td>0.379369</td>\n",
              "    </tr>\n",
              "    <tr>\n",
              "      <td>4</td>\n",
              "      <td>0.393000</td>\n",
              "      <td>0.209446</td>\n",
              "    </tr>\n",
              "    <tr>\n",
              "      <td>5</td>\n",
              "      <td>0.282300</td>\n",
              "      <td>0.169518</td>\n",
              "    </tr>\n",
              "    <tr>\n",
              "      <td>6</td>\n",
              "      <td>0.226700</td>\n",
              "      <td>0.154679</td>\n",
              "    </tr>\n",
              "    <tr>\n",
              "      <td>7</td>\n",
              "      <td>0.208800</td>\n",
              "      <td>0.145647</td>\n",
              "    </tr>\n",
              "    <tr>\n",
              "      <td>8</td>\n",
              "      <td>0.201600</td>\n",
              "      <td>0.142862</td>\n",
              "    </tr>\n",
              "  </tbody>\n",
              "</table><p>"
            ],
            "text/plain": [
              "<IPython.core.display.HTML object>"
            ]
          },
          "metadata": {},
          "output_type": "display_data"
        },
        {
          "name": "stderr",
          "output_type": "stream",
          "text": [
            "There were missing keys in the checkpoint model loaded: ['lm_head.weight'].\n"
          ]
        },
        {
          "data": {
            "text/html": [
              "\n",
              "    <div>\n",
              "      \n",
              "      <progress value='77' max='77' style='width:300px; height:20px; vertical-align: middle;'></progress>\n",
              "      [77/77 00:04]\n",
              "    </div>\n",
              "    "
            ],
            "text/plain": [
              "<IPython.core.display.HTML object>"
            ]
          },
          "metadata": {},
          "output_type": "display_data"
        },
        {
          "name": "stdout",
          "output_type": "stream",
          "text": [
            "\n",
            "✓ Experiment 3 Complete\n",
            "  Train Loss: 1.2006\n",
            "  Eval Loss: 0.1429\n"
          ]
        }
      ],
      "source": [
        "# has optimization (More Epochs and Lower LR)\n",
        "print(\"\\n\" + \"=\"*70)\n",
        "print(\"EXPERIMENT 3: OPTIMIZED CONFIGURATION (BEST)\")\n",
        "print(\"=\"*70)\n",
        "\n",
        "model = GPT2LMHeadModel.from_pretrained(model_name)\n",
        "model.config.pad_token_id = tokenizer.pad_token_id\n",
        "model = model.to(device)\n",
        "\n",
        "training_args_exp3 = TrainingArguments(\n",
        "    output_dir=\"./results_exp3\",\n",
        "    eval_strategy=\"epoch\",\n",
        "    save_strategy=\"epoch\",\n",
        "    learning_rate=3e-5,\n",
        "    per_device_train_batch_size=8,\n",
        "    per_device_eval_batch_size=8,\n",
        "    num_train_epochs=8,\n",
        "    weight_decay=0.01,\n",
        "    warmup_steps=300,\n",
        "    logging_steps=50,\n",
        "    save_total_limit=2,\n",
        "    load_best_model_at_end=True,\n",
        "    metric_for_best_model=\"eval_loss\",\n",
        "    greater_is_better=False,\n",
        "    fp16=torch.cuda.is_available(),\n",
        "    gradient_accumulation_steps=2,\n",
        "    max_grad_norm=0.5,\n",
        "    seed=42,\n",
        "    report_to=\"none\",\n",
        "    disable_tqdm=False\n",
        ")\n",
        "\n",
        "trainer_exp3 = Trainer(\n",
        "    model=model,\n",
        "    args=training_args_exp3,\n",
        "    train_dataset=train_dataset,\n",
        "    eval_dataset=test_dataset,\n",
        "    tokenizer=tokenizer,\n",
        "    data_collator=data_collator,\n",
        "    callbacks=[EarlyStoppingCallback(early_stopping_patience=3)]\n",
        ")\n",
        "\n",
        "print(\"\\nStarting Experiment 3...\")\n",
        "print(f\"Config: LR=3e-5, Batch=8, GradAccum=2, Epochs=8\")\n",
        "\n",
        "train_result_exp3 = trainer_exp3.train()\n",
        "eval_result_exp3 = trainer_exp3.evaluate()\n",
        "\n",
        "print(f\"\\nExperiment 3 Complete\")\n",
        "print(f\"  Train Loss: {train_result_exp3.metrics['train_loss']:.4f}\")\n",
        "print(f\"  Eval Loss: {eval_result_exp3['eval_loss']:.4f}\")"
      ]
    },
    {
      "cell_type": "markdown",
      "metadata": {
        "id": "ABiTkmU7BA-_"
      },
      "source": [
        "#### Experiment Comparison Table"
      ]
    },
    {
      "cell_type": "code",
      "execution_count": null,
      "metadata": {
        "colab": {
          "base_uri": "https://localhost:8080/"
        },
        "id": "9AOp738Zj407",
        "outputId": "29ddf36c-d08c-462e-d677-b3719e1381f6"
      },
      "outputs": [
        {
          "name": "stdout",
          "output_type": "stream",
          "text": [
            "\n",
            "======================================================================\n",
            "HYPERPARAMETER TUNING RESULTS\n",
            "======================================================================\n",
            "      Experiment Learning Rate  Batch Size  Grad Accumulation  Epochs Train Loss Eval Loss\n",
            "        Baseline          5e-5           4                  4       5     1.2309    0.1453\n",
            "       Higher LR          1e-4           4                  4       5     0.8730    0.1136\n",
            "Optimized (Best)          3e-5           8                  2       8     1.2006    0.1429\n",
            "======================================================================\n",
            "\n",
            "✓ Best Model: Experiment 2\n"
          ]
        }
      ],
      "source": [
        "experiments_data = {\n",
        "    'Experiment': ['Baseline', 'Higher LR', 'Optimized (Best)'],\n",
        "    'Learning Rate': ['5e-5', '1e-4', '3e-5'],\n",
        "    'Batch Size': [4, 4, 8],\n",
        "    'Grad Accumulation': [4, 4, 2],\n",
        "    'Epochs': [5, 5, 8],\n",
        "    'Train Loss': [\n",
        "        f\"{train_result_exp1.metrics['train_loss']:.4f}\",\n",
        "        f\"{train_result_exp2.metrics['train_loss']:.4f}\",\n",
        "        f\"{train_result_exp3.metrics['train_loss']:.4f}\"\n",
        "    ],\n",
        "    'Eval Loss': [\n",
        "        f\"{eval_result_exp1['eval_loss']:.4f}\",\n",
        "        f\"{eval_result_exp2['eval_loss']:.4f}\",\n",
        "        f\"{eval_result_exp3['eval_loss']:.4f}\"\n",
        "    ]\n",
        "}\n",
        "\n",
        "exp_df = pd.DataFrame(experiments_data)\n",
        "\n",
        "print(\"\\n\" + \"=\"*70)\n",
        "print(\"HYPERPARAMETER TUNING RESULTS\")\n",
        "print(\"=\"*70)\n",
        "print(exp_df.to_string(index=False))\n",
        "print(\"=\"*70)\n",
        "\n",
        "eval_losses = [\n",
        "    eval_result_exp1['eval_loss'],\n",
        "    eval_result_exp2['eval_loss'],\n",
        "    eval_result_exp3['eval_loss']\n",
        "]\n",
        "best_exp_idx = np.argmin(eval_losses)\n",
        "print(f\"\\n✓ Best Model: Experiment {best_exp_idx + 1}\")\n",
        "\n",
        "if best_exp_idx == 0:\n",
        "    best_trainer = trainer_exp1\n",
        "elif best_exp_idx == 1:\n",
        "    best_trainer = trainer_exp2\n",
        "else:\n",
        "    best_trainer = trainer_exp3\n",
        "\n",
        "model = best_trainer.model"
      ]
    },
    {
      "cell_type": "code",
      "execution_count": null,
      "metadata": {
        "colab": {
          "base_uri": "https://localhost:8080/"
        },
        "id": "8AU1pScu2wVs",
        "outputId": "22d18f96-7996-4dfc-8408-d900e9c6efb5"
      },
      "outputs": [
        {
          "name": "stdout",
          "output_type": "stream",
          "text": [
            "Collecting rouge_score\n",
            "  Downloading rouge_score-0.1.2.tar.gz (17 kB)\n",
            "  Preparing metadata (setup.py) ... \u001b[?25l\u001b[?25hdone\n",
            "Requirement already satisfied: absl-py in /usr/local/lib/python3.12/dist-packages (from rouge_score) (1.4.0)\n",
            "Requirement already satisfied: nltk in /usr/local/lib/python3.12/dist-packages (from rouge_score) (3.9.1)\n",
            "Requirement already satisfied: numpy in /usr/local/lib/python3.12/dist-packages (from rouge_score) (2.0.2)\n",
            "Requirement already satisfied: six>=1.14.0 in /usr/local/lib/python3.12/dist-packages (from rouge_score) (1.17.0)\n",
            "Requirement already satisfied: click in /usr/local/lib/python3.12/dist-packages (from nltk->rouge_score) (8.3.0)\n",
            "Requirement already satisfied: joblib in /usr/local/lib/python3.12/dist-packages (from nltk->rouge_score) (1.5.2)\n",
            "Requirement already satisfied: regex>=2021.8.3 in /usr/local/lib/python3.12/dist-packages (from nltk->rouge_score) (2024.11.6)\n",
            "Requirement already satisfied: tqdm in /usr/local/lib/python3.12/dist-packages (from nltk->rouge_score) (4.67.1)\n",
            "Building wheels for collected packages: rouge_score\n",
            "  Building wheel for rouge_score (setup.py) ... \u001b[?25l\u001b[?25hdone\n",
            "  Created wheel for rouge_score: filename=rouge_score-0.1.2-py3-none-any.whl size=24934 sha256=15e27cc84d24ce11a8eff9c68d4a2e00c672411ab7e3bece9b564f9d20715f24\n",
            "  Stored in directory: /root/.cache/pip/wheels/85/9d/af/01feefbe7d55ef5468796f0c68225b6788e85d9d0a281e7a70\n",
            "Successfully built rouge_score\n",
            "Installing collected packages: rouge_score\n",
            "Successfully installed rouge_score-0.1.2\n"
          ]
        }
      ],
      "source": [
        "pip install rouge_score"
      ]
    },
    {
      "cell_type": "markdown",
      "metadata": {
        "id": "1gIHOs8YAmPK"
      },
      "source": [
        "## Qualitative Evaluation with BLEU Score"
      ]
    },
    {
      "cell_type": "code",
      "execution_count": null,
      "metadata": {
        "colab": {
          "base_uri": "https://localhost:8080/"
        },
        "id": "rZ7lo0c3viLz",
        "outputId": "d1506520-b07a-4b1a-c3a2-8028fe25e01e"
      },
      "outputs": [
        {
          "name": "stdout",
          "output_type": "stream",
          "text": [
            "✓ Response generation function ready\n"
          ]
        }
      ],
      "source": [
        "try:\n",
        "    import evaluate\n",
        "except ImportError:\n",
        "    print(\"Installing evaluate library...\")\n",
        "    import subprocess\n",
        "    import sys\n",
        "    subprocess.check_call([sys.executable, \"-m\", \"pip\", \"install\", \"-q\", \"evaluate\"])\n",
        "    import evaluate\n",
        "\n",
        "bleu_metric = evaluate.load(\"bleu\")\n",
        "rouge_metric = evaluate.load(\"rouge\")\n",
        "\n",
        "def generate_response(query, max_new_tokens=150):\n",
        "    \"\"\"Generate response for a query\"\"\"\n",
        "    model.eval()\n",
        "\n",
        "    prompt = f\"<|user|> {query}<|assistant|>\"\n",
        "\n",
        "    inputs = tokenizer(\n",
        "        prompt,\n",
        "        return_tensors=\"pt\",\n",
        "        truncation=True,\n",
        "        max_length=128\n",
        "    ).to(device)\n",
        "\n",
        "    with torch.no_grad():\n",
        "        outputs = model.generate(\n",
        "            inputs.input_ids,\n",
        "            max_new_tokens=max_new_tokens,\n",
        "            num_beams=4,\n",
        "            early_stopping=True,\n",
        "            no_repeat_ngram_size=3,\n",
        "            do_sample=True,\n",
        "            top_k=50,\n",
        "            top_p=0.92,\n",
        "            temperature=0.8,\n",
        "            pad_token_id=tokenizer.pad_token_id,\n",
        "            eos_token_id=tokenizer.eos_token_id\n",
        "        )\n",
        "\n",
        "    generated_text = tokenizer.decode(outputs[0], skip_special_tokens=True)\n",
        "\n",
        "    if \"<|assistant|>\" in generated_text:\n",
        "        response = generated_text.split(\"<|assistant|>\")[-1].strip()\n",
        "    else:\n",
        "        response = generated_text.replace(prompt, \"\").strip()\n",
        "\n",
        "    return response\n",
        "\n",
        "print(\"✓ Response generation function ready\")"
      ]
    },
    {
      "cell_type": "markdown",
      "metadata": {
        "id": "Ed9uRsI5AXpT"
      },
      "source": [
        "## Evaluation on Test Set"
      ]
    },
    {
      "cell_type": "code",
      "execution_count": null,
      "metadata": {
        "colab": {
          "base_uri": "https://localhost:8080/"
        },
        "id": "C7WmVX53vqS0",
        "outputId": "0e257a89-cc65-4130-aeef-30af313eb4a3"
      },
      "outputs": [
        {
          "name": "stderr",
          "output_type": "stream",
          "text": [
            "The attention mask is not set and cannot be inferred from input because pad token is same as eos token. As a consequence, you may observe unexpected behavior. Please pass your input's `attention_mask` to obtain reliable results.\n"
          ]
        },
        {
          "name": "stdout",
          "output_type": "stream",
          "text": [
            "\n",
            "======================================================================\n",
            "EVALUATING ON TEST SET\n",
            "======================================================================\n",
            "Evaluating 100 samples...\n",
            "  Processed 20/100\n",
            "  Processed 40/100\n",
            "  Processed 60/100\n",
            "  Processed 80/100\n",
            "  Processed 100/100\n",
            "\n",
            "✓ Evaluation Complete\n",
            "\n",
            "Metrics:\n",
            "  BLEU Score: 0.1827\n",
            "  ROUGE-1: 0.3376\n",
            "  ROUGE-2: 0.2518\n",
            "  ROUGE-L: 0.2975\n"
          ]
        }
      ],
      "source": [
        "print(\"Evaluating on the test set\")\n",
        "print(\"=\"*70)\n",
        "\n",
        "n_eval_samples = min(100, len(test_df))\n",
        "eval_sample = test_df.sample(n=n_eval_samples, random_state=42)\n",
        "\n",
        "predictions = []\n",
        "references = []\n",
        "\n",
        "print(f\"Evaluating {n_eval_samples} samples...\")\n",
        "\n",
        "for idx in range(len(eval_sample)):\n",
        "    pattern = eval_sample.iloc[idx]['pattern']\n",
        "    reference = eval_sample.iloc[idx]['response']\n",
        "\n",
        "    prediction = generate_response(pattern)\n",
        "\n",
        "    predictions.append(prediction)\n",
        "    references.append([reference])\n",
        "\n",
        "    if (idx + 1) % 20 == 0:\n",
        "        print(f\"  Processed {idx + 1}/{n_eval_samples}\")\n",
        "\n",
        "# Calculate metrics\n",
        "bleu_score = bleu_metric.compute(predictions=predictions, references=references)\n",
        "rouge_scores = rouge_metric.compute(predictions=predictions, references=references)\n",
        "\n",
        "print(f\"\\n✓ Evaluation Complete\")\n",
        "print(f\"\\nMetrics:\")\n",
        "print(f\"  BLEU Score: {bleu_score['bleu']:.4f}\")\n",
        "print(f\"  ROUGE-1: {rouge_scores['rouge1']:.4f}\")\n",
        "print(f\"  ROUGE-2: {rouge_scores['rouge2']:.4f}\")\n",
        "print(f\"  ROUGE-L: {rouge_scores['rougeL']:.4f}\")"
      ]
    },
    {
      "cell_type": "markdown",
      "metadata": {
        "id": "nS3udS6IAFHa"
      },
      "source": [
        "### Sample Predictions"
      ]
    },
    {
      "cell_type": "code",
      "execution_count": null,
      "metadata": {
        "colab": {
          "base_uri": "https://localhost:8080/"
        },
        "id": "s4t0P3cyvxiL",
        "outputId": "2e3c9efe-2771-4ce3-a8ca-76b815c4a155"
      },
      "outputs": [
        {
          "name": "stdout",
          "output_type": "stream",
          "text": [
            "\n",
            "======================================================================\n",
            "SAMPLE PREDICTIONS\n",
            "======================================================================\n",
            "\n",
            "[Example 1]\n",
            "Query: Emergency: what to do if i get a wound\n",
            "\n",
            "Predicted Response:\n",
            "If the wound is from an animal bite, deep puncture, contaminated object, or shows signs of infection, get medical evaluation and tetanus prophylaxis. :contentReferenceoaicite:3D2D2C2E3D3D4E3E3C3E4E5E5C2A3E5D2E5F3E6E6C2F6E5ED5E6D2F8E5EF5E2E6F5E4C2FA5E8E6A3C2FE5E7E5DA5E1C2C1E5EC5E3A5C3A3A2F4E...\n",
            "\n",
            "Expected Response:\n",
            "If the wound is from an animal bite, deep puncture, contaminated object, or shows signs of infection, get medical evaluation and tetanus prophylaxis....\n",
            "----------------------------------------------------------------------\n",
            "\n",
            "[Example 2]\n",
            "Query: Urgent help needed for how to stop diarrhea\n",
            "\n",
            "Predicted Response:\n",
            "Children, elderly, and immunocompromised persons may need medical attention earlier. Reassess frequently. Provide clear fluids like water, broth, diluted juice, diluted foods, and raw vegetables until diarrhea subsides. Suggest bland foods (rice, applesauce, toast, toast) as tolerated. Avoid spicy, ...\n",
            "\n",
            "Expected Response:\n",
            "Children, elderly, and immunocompromised persons may need medical attention earlier....\n",
            "----------------------------------------------------------------------\n",
            "\n",
            "[Example 3]\n",
            "Query: Can you help with how to heal wound\n",
            "\n",
            "Predicted Response:\n",
            "If the wound is from an animal bite, deep puncture, contaminated object, or shows signs of infection, get medical evaluation and tetanus prophylaxis. :contentReferenceoaicite:3D3D2D2C2E3D1C2A0E3E3C2C1E3A0C2F3E2C3A3E4E2E4C3E5E2F2E5C2D3E6E5D2E6C2FE3E1E5ED5E5DA5E6D2F4E5EC2E2D6E6F2D4E6EF5E3F2C...\n",
            "\n",
            "Expected Response:\n",
            "If the wound is from an animal bite, deep puncture, contaminated object, or shows signs of infection, get medical evaluation and tetanus prophylaxis....\n",
            "----------------------------------------------------------------------\n",
            "\n",
            "[Example 4]\n",
            "Query: Urgent help needed for abrasion\n",
            "\n",
            "Predicted Response:\n",
            "For deeper abrasions, you may need medical care, especially if the wound is large, gaping, or shows signs of infection (redness, swelling, pus). Do not apply ice, butter, greasy substances, or break blisters. Apply cold packs wrapped in cloth for 10 minutes to reduce swelling. Wash the area with soa...\n",
            "\n",
            "Expected Response:\n",
            "Wash your hands, then gently rinse the abrasion with cool to lukewarm water and mild soap. Remove dirt or debris with sterilized tweezers if needed. If the scrape isnt bleeding, you may leave it uncovered, but if it is bleeding apply gentle pressure and then cover with a thin layer of antibiotic oin...\n",
            "----------------------------------------------------------------------\n",
            "\n",
            "[Example 5]\n",
            "Query: How do I how to cool from heat exhaustion\n",
            "\n",
            "Predicted Response:\n",
            "Avoid giving cold drinks too quickly small sips at a time are safer. Drink plenty of fluids to thin mucus and soothe the throat. Use honey (2 tsp in warm water or herbal tea) for adults and children over 1 year (do not give honey to infants 1 year). Use ginger tea, steam inhalation, lozenges, or thr...\n",
            "\n",
            "Expected Response:\n",
            "Avoid giving cold drinks too quickly small sips at a time are safer....\n",
            "----------------------------------------------------------------------\n",
            "\n",
            "[Example 6]\n",
            "Query: How do I what to do if someone is hypothermic\n",
            "\n",
            "Predicted Response:\n",
            "Move the person to a warm, dry place and remove wet clothing. Insulate with blankets, warm packs (apply to trunk, avoid direct contact), and body-to-body contact if necessary. Provide warm (not hot) drinks if fully conscious. Avoid rapid rewarming of limbs (which can cause shock). Monitor vital sign...\n",
            "\n",
            "Expected Response:\n",
            "Do not rub or massage cold limbs, which can worsen injury....\n",
            "----------------------------------------------------------------------\n",
            "\n",
            "[Example 7]\n",
            "Query: Emergency: smoke inhalation first aid\n",
            "\n",
            "Predicted Response:\n",
            "Remove the person from the smoke exposure area if safe. Make them sit upright to help breathing. Administer supplemental oxygen if available. Monitor respiratory rate, wheezing, coughing, coughing. Provide sips of cool water, oral rehydration, and fever reducers (e.g. acetaminophen, ibuprofen) if pr...\n",
            "\n",
            "Expected Response:\n",
            "Even mild inhalation injuries should be evaluated medically since effects can worsen over time....\n",
            "----------------------------------------------------------------------\n",
            "\n",
            "[Example 8]\n",
            "Query: What should I do for how to survive flooding\n",
            "\n",
            "Predicted Response:\n",
            "Avoid electric shock hazarddo not touch electrical equipment while wet or standing in water. Move to higher groundavoid walking or driving through floodwaters. Be aware of contaminated water. After flood, wash any wounds thoroughly with clean water, disinfect, and monitor for infection (waterborne g...\n",
            "\n",
            "Expected Response:\n",
            "Avoid electric shock hazarddo not touch electrical equipment while wet or standing in water....\n",
            "----------------------------------------------------------------------\n"
          ]
        }
      ],
      "source": [
        "print(\"Sample Predictions\")\n",
        "print(\"=\"*70)\n",
        "\n",
        "for i in range(min(8, len(predictions))):\n",
        "    print(f\"\\n[Example {i+1}]\")\n",
        "    print(f\"Query: {eval_sample.iloc[i]['pattern']}\")\n",
        "    print(f\"\\nPredicted Response:\")\n",
        "    print(f\"{predictions[i][:300]}...\")\n",
        "    print(f\"\\nExpected Response:\")\n",
        "    print(f\"{references[i][0][:300]}...\")\n",
        "    print(\"-\"*70)"
      ]
    },
    {
      "cell_type": "markdown",
      "metadata": {
        "id": "dgVL0KZZ_8e2"
      },
      "source": [
        "### Interactive Testing"
      ]
    },
    {
      "cell_type": "code",
      "execution_count": null,
      "metadata": {
        "colab": {
          "base_uri": "https://localhost:8080/"
        },
        "id": "oYLzzJqgv0Lt",
        "outputId": "1ffbfd86-11b3-4656-a2e6-f9f0b59b30b7"
      },
      "outputs": [
        {
          "name": "stdout",
          "output_type": "stream",
          "text": [
            "\n",
            "======================================================================\n",
            "INTERACTIVE TESTING\n",
            "======================================================================\n",
            "\n",
            "User: How do I treat a cut?\n",
            "Assistant: Always clean the wound first, then apply pressure to stop bleeding, moisturize with an ointment, and cover with a sterile dressing. Seek medical attention if bleeding wont stop, or if the cut is very deep, gaping, or involves nerves, tendons, or joints. Do not apply ointments unless prescribed. Apply cold packs (not directly on skin) to reduce swelling. Use topical corticosteroids (e.g. hydrocortisone) for itching. Oral antihistamines like diphenhydramine (Benadryl) or loratadine can help with swelling and itching. For pain, acetaminophen or ibuprofen may be used. If signs of allergic reaction (difficulty\n",
            "\n",
            "----------------------------------------------------------------------\n",
            "\n",
            "User: What to do if someone is choking?\n",
            "Assistant: Encourage the person to cough if they can. If they cant cough, speak, or breathe, perform back blows (5 firm blows between shoulder blades) followed by abdominal thrusts (Heimlich maneuver): stand behind, wrap arms around waist, make a fist above the navel and thrust inward/upward, repeat. Continue until object is expelled or person becomes unresponsive. If unresponsive, begin CPR immediately. Treat any burns with cool water and cover loosely with sterile non-stick dressing. Call emergency services. For infants: insert saline or acetaminophen (2 ml) or ibuprofen (unless contraindicated) for infants 1 year (do not give aspirin or other medications). Keep them warm with blankets. Keep\n",
            "\n",
            "----------------------------------------------------------------------\n",
            "\n",
            "User: snake bite emergency\n",
            "Assistant: Keep calm and limit movement. Lay the person down immobilize the bitten limb and keep it at or slightly below heart level. Remove tight clothing, jewelry, or anything that may constrict swelling. Clean with soap and water, then loosely bandage above and below the bite (pressure immobilization technique, snug but not stopping circulation). Do not apply ice, use a tourniquet, or cut the wound. Transport to hospital immediately for antivenom or further care. :contentReferenceoaicite:2 ratios:3DHA+++2Cyanophen,2onyl,2-alkalis,2tetanus,2dontyloanine,2-(2-hydrocortisone) or tetanus prozac\n",
            "\n",
            "----------------------------------------------------------------------\n",
            "\n",
            "User: I have a fever what should I do\n",
            "Assistant: Drink plenty of fluids to thin mucus and soothe the throat. Use honey (2 tsp in warm water or herbal tea) for adults and children over 1 year (do not give honey to infants 1 year). Use ginger tea, steam inhalation, lozenges, or throat soothing syrups. Over-the-counter cough suppressants (acetaminophen, ibuprofen, aspirin) may help. Avoid irritants like smoking or dry air. Avoid spicy foods until symptoms ease. Introduce bland, fatty/spicy foods (like rice, applesauce, toast) as tolerated. Use ginger teas with honey (asparacetamol) or herbal teas (but only if recommended). Use over-the\n",
            "\n",
            "----------------------------------------------------------------------\n",
            "\n",
            "User: sprained ankle treatment\n",
            "Assistant: If you cannot bear weight, the joint appears deformed, or symptoms worsen, seek medical evaluation. Provide supportive care immediatelymoderate/profound pain relief. Avoid further strain. Monitor for enlarging size, severe pain, confusion, nausea/vomiting, seizures, or vomiting. Stay off the joint until symptoms resolve. :contentReferenceoaicite:1index1index 1index1\n",
            "\n",
            "----------------------------------------------------------------------\n",
            "\n",
            "User: severe burn help\n",
            "Assistant: Do not apply ice, butter, greasy substances, or break blisters. Remove the area if theres a chance it may refreeze before medical care, as repeated thawing/freezing causes more damage.\n",
            "\n",
            "----------------------------------------------------------------------\n",
            "\n",
            "User: someone is drowning what do I do\n",
            "Assistant: If the person is breathing but unconscious, place them in recovery position and monitor breathing. Even if recovery seems complete, medical evaluation is advisable. :contentReferenceoaicite:5 copious amounts of fresh water, broth, diluted juice, or oral rehydration solution may need medical evaluation, especially if the substance is safe.contentReference:5 antidiarrheal agents (e.g. ibuprofen) or acetaminophen may be used. For infants: use saline nasal spray or oral antihistamines only if recommended. Avoid irritants (scented foods, applesauce, toast) as tolerated. Avoid spicy, caffeinated drinks, and fatty/spicy foods while symptoms persist. Avoid triggers (smoke\n",
            "\n",
            "----------------------------------------------------------------------\n",
            "\n",
            "User: treating a broken bone\n",
            "Assistant: Fractures near joints, or any with severe pain, deformity, or impaired circulation require urgent professional care. Always clean the wound first, then apply antibiotic ointment and cover with sterile dressing. Seek medical attention if bleeding wont stop, unless directed otherwise by a professional. :contentReferenceoaicite:1index1index2index2<|index2][content|content|><|contentReference|content=new|content||new|>new|new|index3index2|newindex2]]<|new_content|index4index2}}}index2:new|difficulty_digestion:new_index2dontinite|newdifficulty-new|digestants,new|\n",
            "\n",
            "----------------------------------------------------------------------\n",
            "\n",
            "User: nosebleed won't stop\n",
            "Assistant: Sit upright and lean slightly forward (do not tilt head back). Pinch the soft part of the nose (just below the bony bridge) for 1015 minutes continuously. Breathe through the mouth. Apply a cold compress to the nose/bridge. After bleeding stops, avoid nose blowing, heavy lifting, straining for some hours. Keep warm, caffeinated drinks, and fatty/spicy foods until bleeding stops. Avoid tilting head back to prevent swallowing. Over-the-counter pain relievers like acetaminophen or ibuprofen can help.\n",
            "\n",
            "----------------------------------------------------------------------\n",
            "\n",
            "User: heatstroke symptoms\n",
            "Assistant: Heat stroke is a medical emergencycall for emergency help immediately. Move the person to a cool place, remove excess clothing, and begin rapid cooling (spray water, fan, wet towels). If possible, immerse in cool water or ice bath. Monitor body temperature and vital signs. Provide sips of cool water if conscious. Watch for signs of organ failure, swelling, confusion, seizures, or unconsciousness. Provide clear fluids like water, broth, diluted juice. Suggest bland foods (rice, applesauce, toast, toast) as tolerated. Avoid spicy, fatty/spicy foods, or caffeinated foods until symptoms resolve. Use over-the-counter antacids, simethicone (for gas, caffeinated drinks,\n",
            "\n",
            "----------------------------------------------------------------------\n",
            "\n"
          ]
        }
      ],
      "source": [
        "test_queries = [\n",
        "    \"How do I treat a cut?\",\n",
        "    \"What to do if someone is choking?\",\n",
        "    \"snake bite emergency\",\n",
        "    \"I have a fever what should I do\",\n",
        "    \"sprained ankle treatment\",\n",
        "    \"severe burn help\",\n",
        "    \"someone is drowning what do I do\",\n",
        "    \"treating a broken bone\",\n",
        "    \"nosebleed won't stop\",\n",
        "    \"heatstroke symptoms\"\n",
        "]\n",
        "\n",
        "print(\"\\n\" + \"=\"*70)\n",
        "print(\"INTERACTIVE TESTING\")\n",
        "print(\"=\"*70 + \"\\n\")\n",
        "\n",
        "for query in test_queries:\n",
        "    response = generate_response(query)\n",
        "    print(f\"User: {query}\")\n",
        "    print(f\"Assistant: {response}\\n\")\n",
        "    print(\"-\"*70 + \"\\n\")"
      ]
    },
    {
      "cell_type": "markdown",
      "metadata": {
        "id": "EgZZXH6H__ng"
      },
      "source": [
        "### Best Model"
      ]
    },
    {
      "cell_type": "code",
      "execution_count": null,
      "metadata": {
        "colab": {
          "base_uri": "https://localhost:8080/"
        },
        "id": "-_pidbGCv5YB",
        "outputId": "65c6c692-1564-42d5-aab6-535ec9a67b7e"
      },
      "outputs": [
        {
          "name": "stdout",
          "output_type": "stream",
          "text": [
            "✓ Model saved to Google Drive: /content/drive/MyDrive/Emergency-companion-chatbot/Model/emergency-gpt2-final\n",
            "✓ Model saved locally: ./emergency-gpt2-final\n"
          ]
        }
      ],
      "source": [
        "drive_path = \"/content/drive/MyDrive/Emergency-companion-chatbot/Model/emergency-gpt2-final\"\n",
        "model.save_pretrained(drive_path)\n",
        "tokenizer.save_pretrained(drive_path)\n",
        "print(f\"✓ Model saved to Google Drive: {drive_path}\")\n",
        "\n",
        "model.save_pretrained(\"./emergency-gpt2-final\")\n",
        "tokenizer.save_pretrained(\"./emergency-gpt2-final\")\n",
        "print(\"✓ Model saved locally: ./emergency-gpt2-final\")"
      ]
    },
    {
      "cell_type": "markdown",
      "metadata": {
        "id": "xTnFjb5I_vwC"
      },
      "source": [
        "## Performance Report"
      ]
    },
    {
      "cell_type": "code",
      "execution_count": null,
      "metadata": {
        "colab": {
          "base_uri": "https://localhost:8080/"
        },
        "id": "vHA8ROJgv6IX",
        "outputId": "01a9c224-0ccb-459f-853c-71cac7383f91"
      },
      "outputs": [
        {
          "name": "stdout",
          "output_type": "stream",
          "text": [
            "\n",
            "======================================================================\n",
            "FINAL PERFORMANCE SUMMARY\n",
            "======================================================================\n",
            "                Metric          Value\n",
            "    Model Architecture    DistilGPT-2\n",
            "      Training Samples          3,480\n",
            "          Test Samples            615\n",
            "       Best Experiment   Experiment 2\n",
            "      Final Train Loss         1.2006\n",
            "       Final Eval Loss         0.1429\n",
            "            BLEU Score         0.1827\n",
            "               ROUGE-1         0.3376\n",
            "               ROUGE-2         0.2518\n",
            "               ROUGE-L         0.2975\n",
            "            Parameters     81,912,576\n",
            "Training Time (approx) ~40-50 minutes\n",
            "======================================================================\n",
            "\n",
            "✓ Training Complete!\n",
            "✓ Model ready for deployment\n",
            "\n",
            "To use the model:\n",
            "  response = generate_response('your emergency query here')\n"
          ]
        }
      ],
      "source": [
        "summary_data = {\n",
        "    'Metric': [\n",
        "        'Model Architecture',\n",
        "        'Training Samples',\n",
        "        'Test Samples',\n",
        "        'Best Experiment',\n",
        "        'Final Train Loss',\n",
        "        'Final Eval Loss',\n",
        "        'BLEU Score',\n",
        "        'ROUGE-1',\n",
        "        'ROUGE-2',\n",
        "        'ROUGE-L',\n",
        "        'Parameters',\n",
        "        'Training Time (approx)'\n",
        "    ],\n",
        "    'Value': [\n",
        "        'DistilGPT-2',\n",
        "        f\"{len(train_df):,}\",\n",
        "        f\"{len(test_df):,}\",\n",
        "        f\"Experiment {best_exp_idx + 1}\",\n",
        "        f\"{train_result_exp3.metrics['train_loss']:.4f}\",\n",
        "        f\"{eval_result_exp3['eval_loss']:.4f}\",\n",
        "        f\"{bleu_score['bleu']:.4f}\",\n",
        "        f\"{rouge_scores['rouge1']:.4f}\",\n",
        "        f\"{rouge_scores['rouge2']:.4f}\",\n",
        "        f\"{rouge_scores['rougeL']:.4f}\",\n",
        "        f\"{model.num_parameters():,}\",\n",
        "        '~40-50 minutes'\n",
        "    ]\n",
        "}\n",
        "\n",
        "summary_df = pd.DataFrame(summary_data)\n",
        "\n",
        "print(\"\\n\" + \"=\"*70)\n",
        "print(\"FINAL PERFORMANCE SUMMARY\")\n",
        "print(\"=\"*70)\n",
        "print(summary_df.to_string(index=False))\n",
        "print(\"=\"*70)\n",
        "\n",
        "print(\"\\n✓ Training Complete!\")\n",
        "print(\"✓ Model ready for deployment\")\n",
        "print(\"\\nTo use the model:\")\n",
        "print(\"  response = generate_response('your emergency query here')\")"
      ]
    },
    {
      "cell_type": "markdown",
      "metadata": {
        "id": "R7KYlqT-_HGe"
      },
      "source": [
        "Removing invalid notebook issue"
      ]
    },
    {
      "cell_type": "code",
      "execution_count": 1,
      "metadata": {
        "colab": {
          "base_uri": "https://localhost:8080/"
        },
        "id": "d1q1UFaI_GXY",
        "outputId": "3175b1af-6650-4bd3-b5b9-1b0190e26252"
      },
      "outputs": [
        {
          "name": "stdout",
          "output_type": "stream",
          "text": [
            "Mounted at /content/drive\n"
          ]
        }
      ],
      "source": [
        "from google.colab import drive\n",
        "drive.mount('/content/drive')"
      ]
    },
    {
      "cell_type": "code",
      "execution_count": 2,
      "metadata": {
        "colab": {
          "base_uri": "https://localhost:8080/"
        },
        "id": "nHGvqZng_EYU",
        "outputId": "23d5e200-6199-4c36-aa52-7dba165e54fa"
      },
      "outputs": [
        {
          "name": "stdout",
          "output_type": "stream",
          "text": [
            "Dataset\t\t\t\t      Emergency_companion_Summative.ipynb\n",
            "Emergency_companion_Summative1.ipynb  Model\n"
          ]
        }
      ],
      "source": [
        "!ls \"/content/drive/MyDrive/Emergency-companion-chatbot/\""
      ]
    },
    {
      "cell_type": "code",
      "execution_count": 4,
      "metadata": {
        "id": "uFnIPSiK_lZD"
      },
      "outputs": [],
      "source": [
        "import json\n",
        "\n",
        "path = \"/content/drive/MyDrive/Emergency-companion-chatbot/Emergency_companion_Summative1.ipynb\"\n",
        "\n",
        "\n",
        "with open(path, \"r\", encoding=\"utf-8\") as f:\n",
        "    nb = json.load(f)\n",
        "\n",
        "for cell in nb.get(\"cells\", []):\n",
        "    if \"metadata\" in cell and \"widgets\" in cell[\"metadata\"]:\n",
        "        del cell[\"metadata\"][\"widgets\"]\n",
        "\n",
        "with open(path, \"w\", encoding=\"utf-8\") as f:\n",
        "    json.dump(nb, f, indent=1)"
      ]
    }
  ],
  "metadata": {
    "accelerator": "GPU",
    "colab": {
      "authorship_tag": "ABX9TyP0MOJ8iIFKmH94BIKdgg3s",
      "gpuType": "T4",
      "include_colab_link": true,
      "provenance": []
    },
    "kernelspec": {
      "display_name": "Python 3",
      "name": "python3"
    },
    "language_info": {
      "name": "python"
    },
    "widgets": {
      "application/vnd.jupyter.widget-state+json": {}
    }
  },
  "nbformat": 4,
  "nbformat_minor": 0
}
