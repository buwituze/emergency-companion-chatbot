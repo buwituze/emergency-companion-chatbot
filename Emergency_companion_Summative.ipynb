{
  "nbformat": 4,
  "nbformat_minor": 0,
  "metadata": {
    "colab": {
      "provenance": [],
      "gpuType": "T4",
      "include_colab_link": true
    },
    "kernelspec": {
      "name": "python3",
      "display_name": "Python 3"
    },
    "language_info": {
      "name": "python"
    },
    "accelerator": "GPU",
    "widgets": {
      "application/vnd.jupyter.widget-state+json": {
        "da76639e5d604c5486b1ea5d5638b4e3": {
          "model_module": "@jupyter-widgets/controls",
          "model_name": "HBoxModel",
          "model_module_version": "1.5.0",
          "state": {
            "_dom_classes": [],
            "_model_module": "@jupyter-widgets/controls",
            "_model_module_version": "1.5.0",
            "_model_name": "HBoxModel",
            "_view_count": null,
            "_view_module": "@jupyter-widgets/controls",
            "_view_module_version": "1.5.0",
            "_view_name": "HBoxView",
            "box_style": "",
            "children": [
              "IPY_MODEL_c29cda235a8b457e9674d58e23e1fe9c",
              "IPY_MODEL_94ac07aea0b44f36b85eabf999d0fe8b",
              "IPY_MODEL_f7ed7f357f7246a08a90cd2d8c28d29f"
            ],
            "layout": "IPY_MODEL_923e0e0680f64d6d950f2b9e52abd0e9"
          }
        },
        "c29cda235a8b457e9674d58e23e1fe9c": {
          "model_module": "@jupyter-widgets/controls",
          "model_name": "HTMLModel",
          "model_module_version": "1.5.0",
          "state": {
            "_dom_classes": [],
            "_model_module": "@jupyter-widgets/controls",
            "_model_module_version": "1.5.0",
            "_model_name": "HTMLModel",
            "_view_count": null,
            "_view_module": "@jupyter-widgets/controls",
            "_view_module_version": "1.5.0",
            "_view_name": "HTMLView",
            "description": "",
            "description_tooltip": null,
            "layout": "IPY_MODEL_6375535e3a50498f9c98c5be1c2150e0",
            "placeholder": "​",
            "style": "IPY_MODEL_f067e7a736a34298978f76e5c02bb82b",
            "value": "Tokenizing train data: 100%"
          }
        },
        "94ac07aea0b44f36b85eabf999d0fe8b": {
          "model_module": "@jupyter-widgets/controls",
          "model_name": "FloatProgressModel",
          "model_module_version": "1.5.0",
          "state": {
            "_dom_classes": [],
            "_model_module": "@jupyter-widgets/controls",
            "_model_module_version": "1.5.0",
            "_model_name": "FloatProgressModel",
            "_view_count": null,
            "_view_module": "@jupyter-widgets/controls",
            "_view_module_version": "1.5.0",
            "_view_name": "ProgressView",
            "bar_style": "success",
            "description": "",
            "description_tooltip": null,
            "layout": "IPY_MODEL_d2a344236a3d4572bdc4479dd031783e",
            "max": 96,
            "min": 0,
            "orientation": "horizontal",
            "style": "IPY_MODEL_67bef69921a14bac8848ce7439ceec6c",
            "value": 96
          }
        },
        "f7ed7f357f7246a08a90cd2d8c28d29f": {
          "model_module": "@jupyter-widgets/controls",
          "model_name": "HTMLModel",
          "model_module_version": "1.5.0",
          "state": {
            "_dom_classes": [],
            "_model_module": "@jupyter-widgets/controls",
            "_model_module_version": "1.5.0",
            "_model_name": "HTMLModel",
            "_view_count": null,
            "_view_module": "@jupyter-widgets/controls",
            "_view_module_version": "1.5.0",
            "_view_name": "HTMLView",
            "description": "",
            "description_tooltip": null,
            "layout": "IPY_MODEL_a3816f8616f34aebbe501e56fe869bc6",
            "placeholder": "​",
            "style": "IPY_MODEL_b74b0b5cd30b451588ebbbd835bcf602",
            "value": " 96/96 [00:00&lt;00:00, 313.37 examples/s]"
          }
        },
        "923e0e0680f64d6d950f2b9e52abd0e9": {
          "model_module": "@jupyter-widgets/base",
          "model_name": "LayoutModel",
          "model_module_version": "1.2.0",
          "state": {
            "_model_module": "@jupyter-widgets/base",
            "_model_module_version": "1.2.0",
            "_model_name": "LayoutModel",
            "_view_count": null,
            "_view_module": "@jupyter-widgets/base",
            "_view_module_version": "1.2.0",
            "_view_name": "LayoutView",
            "align_content": null,
            "align_items": null,
            "align_self": null,
            "border": null,
            "bottom": null,
            "display": null,
            "flex": null,
            "flex_flow": null,
            "grid_area": null,
            "grid_auto_columns": null,
            "grid_auto_flow": null,
            "grid_auto_rows": null,
            "grid_column": null,
            "grid_gap": null,
            "grid_row": null,
            "grid_template_areas": null,
            "grid_template_columns": null,
            "grid_template_rows": null,
            "height": null,
            "justify_content": null,
            "justify_items": null,
            "left": null,
            "margin": null,
            "max_height": null,
            "max_width": null,
            "min_height": null,
            "min_width": null,
            "object_fit": null,
            "object_position": null,
            "order": null,
            "overflow": null,
            "overflow_x": null,
            "overflow_y": null,
            "padding": null,
            "right": null,
            "top": null,
            "visibility": null,
            "width": null
          }
        },
        "6375535e3a50498f9c98c5be1c2150e0": {
          "model_module": "@jupyter-widgets/base",
          "model_name": "LayoutModel",
          "model_module_version": "1.2.0",
          "state": {
            "_model_module": "@jupyter-widgets/base",
            "_model_module_version": "1.2.0",
            "_model_name": "LayoutModel",
            "_view_count": null,
            "_view_module": "@jupyter-widgets/base",
            "_view_module_version": "1.2.0",
            "_view_name": "LayoutView",
            "align_content": null,
            "align_items": null,
            "align_self": null,
            "border": null,
            "bottom": null,
            "display": null,
            "flex": null,
            "flex_flow": null,
            "grid_area": null,
            "grid_auto_columns": null,
            "grid_auto_flow": null,
            "grid_auto_rows": null,
            "grid_column": null,
            "grid_gap": null,
            "grid_row": null,
            "grid_template_areas": null,
            "grid_template_columns": null,
            "grid_template_rows": null,
            "height": null,
            "justify_content": null,
            "justify_items": null,
            "left": null,
            "margin": null,
            "max_height": null,
            "max_width": null,
            "min_height": null,
            "min_width": null,
            "object_fit": null,
            "object_position": null,
            "order": null,
            "overflow": null,
            "overflow_x": null,
            "overflow_y": null,
            "padding": null,
            "right": null,
            "top": null,
            "visibility": null,
            "width": null
          }
        },
        "f067e7a736a34298978f76e5c02bb82b": {
          "model_module": "@jupyter-widgets/controls",
          "model_name": "DescriptionStyleModel",
          "model_module_version": "1.5.0",
          "state": {
            "_model_module": "@jupyter-widgets/controls",
            "_model_module_version": "1.5.0",
            "_model_name": "DescriptionStyleModel",
            "_view_count": null,
            "_view_module": "@jupyter-widgets/base",
            "_view_module_version": "1.2.0",
            "_view_name": "StyleView",
            "description_width": ""
          }
        },
        "d2a344236a3d4572bdc4479dd031783e": {
          "model_module": "@jupyter-widgets/base",
          "model_name": "LayoutModel",
          "model_module_version": "1.2.0",
          "state": {
            "_model_module": "@jupyter-widgets/base",
            "_model_module_version": "1.2.0",
            "_model_name": "LayoutModel",
            "_view_count": null,
            "_view_module": "@jupyter-widgets/base",
            "_view_module_version": "1.2.0",
            "_view_name": "LayoutView",
            "align_content": null,
            "align_items": null,
            "align_self": null,
            "border": null,
            "bottom": null,
            "display": null,
            "flex": null,
            "flex_flow": null,
            "grid_area": null,
            "grid_auto_columns": null,
            "grid_auto_flow": null,
            "grid_auto_rows": null,
            "grid_column": null,
            "grid_gap": null,
            "grid_row": null,
            "grid_template_areas": null,
            "grid_template_columns": null,
            "grid_template_rows": null,
            "height": null,
            "justify_content": null,
            "justify_items": null,
            "left": null,
            "margin": null,
            "max_height": null,
            "max_width": null,
            "min_height": null,
            "min_width": null,
            "object_fit": null,
            "object_position": null,
            "order": null,
            "overflow": null,
            "overflow_x": null,
            "overflow_y": null,
            "padding": null,
            "right": null,
            "top": null,
            "visibility": null,
            "width": null
          }
        },
        "67bef69921a14bac8848ce7439ceec6c": {
          "model_module": "@jupyter-widgets/controls",
          "model_name": "ProgressStyleModel",
          "model_module_version": "1.5.0",
          "state": {
            "_model_module": "@jupyter-widgets/controls",
            "_model_module_version": "1.5.0",
            "_model_name": "ProgressStyleModel",
            "_view_count": null,
            "_view_module": "@jupyter-widgets/base",
            "_view_module_version": "1.2.0",
            "_view_name": "StyleView",
            "bar_color": null,
            "description_width": ""
          }
        },
        "a3816f8616f34aebbe501e56fe869bc6": {
          "model_module": "@jupyter-widgets/base",
          "model_name": "LayoutModel",
          "model_module_version": "1.2.0",
          "state": {
            "_model_module": "@jupyter-widgets/base",
            "_model_module_version": "1.2.0",
            "_model_name": "LayoutModel",
            "_view_count": null,
            "_view_module": "@jupyter-widgets/base",
            "_view_module_version": "1.2.0",
            "_view_name": "LayoutView",
            "align_content": null,
            "align_items": null,
            "align_self": null,
            "border": null,
            "bottom": null,
            "display": null,
            "flex": null,
            "flex_flow": null,
            "grid_area": null,
            "grid_auto_columns": null,
            "grid_auto_flow": null,
            "grid_auto_rows": null,
            "grid_column": null,
            "grid_gap": null,
            "grid_row": null,
            "grid_template_areas": null,
            "grid_template_columns": null,
            "grid_template_rows": null,
            "height": null,
            "justify_content": null,
            "justify_items": null,
            "left": null,
            "margin": null,
            "max_height": null,
            "max_width": null,
            "min_height": null,
            "min_width": null,
            "object_fit": null,
            "object_position": null,
            "order": null,
            "overflow": null,
            "overflow_x": null,
            "overflow_y": null,
            "padding": null,
            "right": null,
            "top": null,
            "visibility": null,
            "width": null
          }
        },
        "b74b0b5cd30b451588ebbbd835bcf602": {
          "model_module": "@jupyter-widgets/controls",
          "model_name": "DescriptionStyleModel",
          "model_module_version": "1.5.0",
          "state": {
            "_model_module": "@jupyter-widgets/controls",
            "_model_module_version": "1.5.0",
            "_model_name": "DescriptionStyleModel",
            "_view_count": null,
            "_view_module": "@jupyter-widgets/base",
            "_view_module_version": "1.2.0",
            "_view_name": "StyleView",
            "description_width": ""
          }
        },
        "0ebd1f708640446499dae966a60851b8": {
          "model_module": "@jupyter-widgets/controls",
          "model_name": "HBoxModel",
          "model_module_version": "1.5.0",
          "state": {
            "_dom_classes": [],
            "_model_module": "@jupyter-widgets/controls",
            "_model_module_version": "1.5.0",
            "_model_name": "HBoxModel",
            "_view_count": null,
            "_view_module": "@jupyter-widgets/controls",
            "_view_module_version": "1.5.0",
            "_view_name": "HBoxView",
            "box_style": "",
            "children": [
              "IPY_MODEL_b6bbd3ad5ff4496f8c6d8feb1495afe8",
              "IPY_MODEL_a728cde4c909478ebf129eb3d008379a",
              "IPY_MODEL_42ea92f9f5eb4b8f81277a340fd44ec0"
            ],
            "layout": "IPY_MODEL_c8a8bde1b9a446ceaeea7a987f4f853a"
          }
        },
        "b6bbd3ad5ff4496f8c6d8feb1495afe8": {
          "model_module": "@jupyter-widgets/controls",
          "model_name": "HTMLModel",
          "model_module_version": "1.5.0",
          "state": {
            "_dom_classes": [],
            "_model_module": "@jupyter-widgets/controls",
            "_model_module_version": "1.5.0",
            "_model_name": "HTMLModel",
            "_view_count": null,
            "_view_module": "@jupyter-widgets/controls",
            "_view_module_version": "1.5.0",
            "_view_name": "HTMLView",
            "description": "",
            "description_tooltip": null,
            "layout": "IPY_MODEL_517b70c2edc8466b82bc8cb618a9b1e7",
            "placeholder": "​",
            "style": "IPY_MODEL_e6c042bf46f24881a92ecb834a785a82",
            "value": "Tokenizing test data: 100%"
          }
        },
        "a728cde4c909478ebf129eb3d008379a": {
          "model_module": "@jupyter-widgets/controls",
          "model_name": "FloatProgressModel",
          "model_module_version": "1.5.0",
          "state": {
            "_dom_classes": [],
            "_model_module": "@jupyter-widgets/controls",
            "_model_module_version": "1.5.0",
            "_model_name": "FloatProgressModel",
            "_view_count": null,
            "_view_module": "@jupyter-widgets/controls",
            "_view_module_version": "1.5.0",
            "_view_name": "ProgressView",
            "bar_style": "success",
            "description": "",
            "description_tooltip": null,
            "layout": "IPY_MODEL_f502b5ed00294f9c84afc4f101a8b9c5",
            "max": 25,
            "min": 0,
            "orientation": "horizontal",
            "style": "IPY_MODEL_a71c7b259c85447f8f0903937c1316bd",
            "value": 25
          }
        },
        "42ea92f9f5eb4b8f81277a340fd44ec0": {
          "model_module": "@jupyter-widgets/controls",
          "model_name": "HTMLModel",
          "model_module_version": "1.5.0",
          "state": {
            "_dom_classes": [],
            "_model_module": "@jupyter-widgets/controls",
            "_model_module_version": "1.5.0",
            "_model_name": "HTMLModel",
            "_view_count": null,
            "_view_module": "@jupyter-widgets/controls",
            "_view_module_version": "1.5.0",
            "_view_name": "HTMLView",
            "description": "",
            "description_tooltip": null,
            "layout": "IPY_MODEL_e663b5a1cfda4fe5a77fc1e92d93b3e4",
            "placeholder": "​",
            "style": "IPY_MODEL_99f298f32a9c434bb2681668419742e7",
            "value": " 25/25 [00:00&lt;00:00, 258.14 examples/s]"
          }
        },
        "c8a8bde1b9a446ceaeea7a987f4f853a": {
          "model_module": "@jupyter-widgets/base",
          "model_name": "LayoutModel",
          "model_module_version": "1.2.0",
          "state": {
            "_model_module": "@jupyter-widgets/base",
            "_model_module_version": "1.2.0",
            "_model_name": "LayoutModel",
            "_view_count": null,
            "_view_module": "@jupyter-widgets/base",
            "_view_module_version": "1.2.0",
            "_view_name": "LayoutView",
            "align_content": null,
            "align_items": null,
            "align_self": null,
            "border": null,
            "bottom": null,
            "display": null,
            "flex": null,
            "flex_flow": null,
            "grid_area": null,
            "grid_auto_columns": null,
            "grid_auto_flow": null,
            "grid_auto_rows": null,
            "grid_column": null,
            "grid_gap": null,
            "grid_row": null,
            "grid_template_areas": null,
            "grid_template_columns": null,
            "grid_template_rows": null,
            "height": null,
            "justify_content": null,
            "justify_items": null,
            "left": null,
            "margin": null,
            "max_height": null,
            "max_width": null,
            "min_height": null,
            "min_width": null,
            "object_fit": null,
            "object_position": null,
            "order": null,
            "overflow": null,
            "overflow_x": null,
            "overflow_y": null,
            "padding": null,
            "right": null,
            "top": null,
            "visibility": null,
            "width": null
          }
        },
        "517b70c2edc8466b82bc8cb618a9b1e7": {
          "model_module": "@jupyter-widgets/base",
          "model_name": "LayoutModel",
          "model_module_version": "1.2.0",
          "state": {
            "_model_module": "@jupyter-widgets/base",
            "_model_module_version": "1.2.0",
            "_model_name": "LayoutModel",
            "_view_count": null,
            "_view_module": "@jupyter-widgets/base",
            "_view_module_version": "1.2.0",
            "_view_name": "LayoutView",
            "align_content": null,
            "align_items": null,
            "align_self": null,
            "border": null,
            "bottom": null,
            "display": null,
            "flex": null,
            "flex_flow": null,
            "grid_area": null,
            "grid_auto_columns": null,
            "grid_auto_flow": null,
            "grid_auto_rows": null,
            "grid_column": null,
            "grid_gap": null,
            "grid_row": null,
            "grid_template_areas": null,
            "grid_template_columns": null,
            "grid_template_rows": null,
            "height": null,
            "justify_content": null,
            "justify_items": null,
            "left": null,
            "margin": null,
            "max_height": null,
            "max_width": null,
            "min_height": null,
            "min_width": null,
            "object_fit": null,
            "object_position": null,
            "order": null,
            "overflow": null,
            "overflow_x": null,
            "overflow_y": null,
            "padding": null,
            "right": null,
            "top": null,
            "visibility": null,
            "width": null
          }
        },
        "e6c042bf46f24881a92ecb834a785a82": {
          "model_module": "@jupyter-widgets/controls",
          "model_name": "DescriptionStyleModel",
          "model_module_version": "1.5.0",
          "state": {
            "_model_module": "@jupyter-widgets/controls",
            "_model_module_version": "1.5.0",
            "_model_name": "DescriptionStyleModel",
            "_view_count": null,
            "_view_module": "@jupyter-widgets/base",
            "_view_module_version": "1.2.0",
            "_view_name": "StyleView",
            "description_width": ""
          }
        },
        "f502b5ed00294f9c84afc4f101a8b9c5": {
          "model_module": "@jupyter-widgets/base",
          "model_name": "LayoutModel",
          "model_module_version": "1.2.0",
          "state": {
            "_model_module": "@jupyter-widgets/base",
            "_model_module_version": "1.2.0",
            "_model_name": "LayoutModel",
            "_view_count": null,
            "_view_module": "@jupyter-widgets/base",
            "_view_module_version": "1.2.0",
            "_view_name": "LayoutView",
            "align_content": null,
            "align_items": null,
            "align_self": null,
            "border": null,
            "bottom": null,
            "display": null,
            "flex": null,
            "flex_flow": null,
            "grid_area": null,
            "grid_auto_columns": null,
            "grid_auto_flow": null,
            "grid_auto_rows": null,
            "grid_column": null,
            "grid_gap": null,
            "grid_row": null,
            "grid_template_areas": null,
            "grid_template_columns": null,
            "grid_template_rows": null,
            "height": null,
            "justify_content": null,
            "justify_items": null,
            "left": null,
            "margin": null,
            "max_height": null,
            "max_width": null,
            "min_height": null,
            "min_width": null,
            "object_fit": null,
            "object_position": null,
            "order": null,
            "overflow": null,
            "overflow_x": null,
            "overflow_y": null,
            "padding": null,
            "right": null,
            "top": null,
            "visibility": null,
            "width": null
          }
        },
        "a71c7b259c85447f8f0903937c1316bd": {
          "model_module": "@jupyter-widgets/controls",
          "model_name": "ProgressStyleModel",
          "model_module_version": "1.5.0",
          "state": {
            "_model_module": "@jupyter-widgets/controls",
            "_model_module_version": "1.5.0",
            "_model_name": "ProgressStyleModel",
            "_view_count": null,
            "_view_module": "@jupyter-widgets/base",
            "_view_module_version": "1.2.0",
            "_view_name": "StyleView",
            "bar_color": null,
            "description_width": ""
          }
        },
        "e663b5a1cfda4fe5a77fc1e92d93b3e4": {
          "model_module": "@jupyter-widgets/base",
          "model_name": "LayoutModel",
          "model_module_version": "1.2.0",
          "state": {
            "_model_module": "@jupyter-widgets/base",
            "_model_module_version": "1.2.0",
            "_model_name": "LayoutModel",
            "_view_count": null,
            "_view_module": "@jupyter-widgets/base",
            "_view_module_version": "1.2.0",
            "_view_name": "LayoutView",
            "align_content": null,
            "align_items": null,
            "align_self": null,
            "border": null,
            "bottom": null,
            "display": null,
            "flex": null,
            "flex_flow": null,
            "grid_area": null,
            "grid_auto_columns": null,
            "grid_auto_flow": null,
            "grid_auto_rows": null,
            "grid_column": null,
            "grid_gap": null,
            "grid_row": null,
            "grid_template_areas": null,
            "grid_template_columns": null,
            "grid_template_rows": null,
            "height": null,
            "justify_content": null,
            "justify_items": null,
            "left": null,
            "margin": null,
            "max_height": null,
            "max_width": null,
            "min_height": null,
            "min_width": null,
            "object_fit": null,
            "object_position": null,
            "order": null,
            "overflow": null,
            "overflow_x": null,
            "overflow_y": null,
            "padding": null,
            "right": null,
            "top": null,
            "visibility": null,
            "width": null
          }
        },
        "99f298f32a9c434bb2681668419742e7": {
          "model_module": "@jupyter-widgets/controls",
          "model_name": "DescriptionStyleModel",
          "model_module_version": "1.5.0",
          "state": {
            "_model_module": "@jupyter-widgets/controls",
            "_model_module_version": "1.5.0",
            "_model_name": "DescriptionStyleModel",
            "_view_count": null,
            "_view_module": "@jupyter-widgets/base",
            "_view_module_version": "1.2.0",
            "_view_name": "StyleView",
            "description_width": ""
          }
        }
      }
    }
  },
  "cells": [
    {
      "cell_type": "markdown",
      "metadata": {
        "id": "view-in-github",
        "colab_type": "text"
      },
      "source": [
        "<a href=\"https://colab.research.google.com/github/buwituze/emergency-companion-chatbot/blob/main/Emergency_companion_Summative.ipynb\" target=\"_parent\"><img src=\"https://colab.research.google.com/assets/colab-badge.svg\" alt=\"Open In Colab\"/></a>"
      ]
    },
    {
      "cell_type": "markdown",
      "source": [
        "# Emergency Companion\n",
        "\n",
        "Domain: Healthcare (Emergency Response)\n",
        "\n",
        "Purpose: Assists users with emergency first aid guidance and preparedness information"
      ],
      "metadata": {
        "id": "RWvPKtLUFec8"
      }
    },
    {
      "cell_type": "code",
      "execution_count": null,
      "metadata": {
        "id": "YL1GRBlgFRDM",
        "outputId": "5393ac40-080e-459c-ed2a-9cbaccd9d4c4",
        "colab": {
          "base_uri": "https://localhost:8080/"
        }
      },
      "outputs": [
        {
          "output_type": "execute_result",
          "data": {
            "text/plain": [
              "<torch._C.Generator at 0x78cd07f46f70>"
            ]
          },
          "metadata": {},
          "execution_count": 1
        }
      ],
      "source": [
        "import json\n",
        "import pandas as pd\n",
        "import numpy as np\n",
        "import re\n",
        "import matplotlib.pyplot as plt\n",
        "import seaborn as sns\n",
        "from sklearn.model_selection import train_test_split\n",
        "from transformers import (\n",
        "    T5Tokenizer,\n",
        "    T5ForConditionalGeneration,\n",
        "    TrainingArguments,\n",
        "    Trainer,\n",
        "    DataCollatorForSeq2Seq\n",
        ")\n",
        "from datasets import Dataset\n",
        "import warnings\n",
        "import torch\n",
        "\n",
        "warnings.filterwarnings('ignore')\n",
        "np.random.seed(42)\n",
        "torch.manual_seed(42)"
      ]
    },
    {
      "cell_type": "markdown",
      "source": [
        "## Load and Format Dataset"
      ],
      "metadata": {
        "id": "wdwEI8PVFvGh"
      }
    },
    {
      "cell_type": "code",
      "source": [
        "from google.colab import drive\n",
        "drive.mount('/content/drive')"
      ],
      "metadata": {
        "id": "MPT2YWvUFihf",
        "outputId": "08bf8821-5331-49e1-968d-4632f8b7e382",
        "colab": {
          "base_uri": "https://localhost:8080/"
        }
      },
      "execution_count": null,
      "outputs": [
        {
          "output_type": "stream",
          "name": "stdout",
          "text": [
            "Drive already mounted at /content/drive; to attempt to forcibly remount, call drive.mount(\"/content/drive\", force_remount=True).\n"
          ]
        }
      ]
    },
    {
      "cell_type": "code",
      "source": [
        "dataset_path = \"/content/drive/MyDrive/Emergency-companion-chatbot/Dataset/intents.json\"\n",
        "\n",
        "with open(dataset_path, \"r\") as f:\n",
        "    data = json.load(f)\n",
        "\n",
        "rows = []\n",
        "for intent in data[\"intents\"]:\n",
        "    tag = intent[\"tag\"]\n",
        "    responses = intent[\"responses\"]\n",
        "\n",
        "    if not responses or all(r.strip() == \"\" for r in responses):\n",
        "        print(f\"Skipping intent '{tag}' - no valid responses\")\n",
        "        continue\n",
        "\n",
        "    valid_responses = [r for r in responses if r.strip() != \"\"]\n",
        "\n",
        "    for pattern in intent[\"patterns\"]:\n",
        "        for response in valid_responses:\n",
        "            rows.append({\n",
        "                \"tag\": tag,\n",
        "                \"pattern\": pattern.strip(),\n",
        "                \"response\": response.strip()\n",
        "            })\n",
        "\n",
        "df = pd.DataFrame(rows)\n",
        "\n",
        "print(\"Dataset loaded successfully\")\n",
        "print(f\"Total samples: {len(df)}\")\n",
        "print(f\"Unique intents: {df['tag'].nunique()}\")\n",
        "print(f\"Intents with data: {df['tag'].unique().tolist()}\")"
      ],
      "metadata": {
        "id": "UDseam7lFlPe",
        "outputId": "8c8fa58f-b0cc-4682-fdd5-6db1dcc542da",
        "colab": {
          "base_uri": "https://localhost:8080/"
        }
      },
      "execution_count": null,
      "outputs": [
        {
          "output_type": "stream",
          "name": "stdout",
          "text": [
            "Skipping intent 'Frost bite' - no valid responses\n",
            "Skipping intent 'Heat Exhaustion' - no valid responses\n",
            "Skipping intent 'Heat Stroke' - no valid responses\n",
            "Skipping intent 'Insect Bites' - no valid responses\n",
            "Skipping intent 'nose bleed' - no valid responses\n",
            "Skipping intent 'Pulled Muscle' - no valid responses\n",
            "Skipping intent 'Rectal bleeding' - no valid responses\n",
            "Skipping intent 'Sun Burn' - no valid responses\n",
            "Skipping intent 'Testicle Pain' - no valid responses\n",
            "Skipping intent 'Vertigo' - no valid responses\n",
            "Skipping intent 'Normal Bleeding' - no valid responses\n",
            "Skipping intent 'Eye Injury' - no valid responses\n",
            "Skipping intent 'Chemical Burn' - no valid responses\n",
            "Skipping intent 'Poison' - no valid responses\n",
            "Skipping intent 'Teeth' - no valid responses\n",
            "Skipping intent 'seizure' - no valid responses\n",
            "Skipping intent 'Head Injury' - no valid responses\n",
            "Skipping intent 'Fainting' - no valid responses\n",
            "Dataset loaded successfully\n",
            "Total samples: 139\n",
            "Unique intents: 28\n",
            "Intents with data: ['Cuts', 'greeting', 'goodbye', 'Abrasions', 'stings', 'Splinter', 'Sprains', 'Strains', 'Fever', 'Nasal Congestion', 'Cough', 'Sore Throat', 'Gastrointestinal problems', 'Skin problems', 'Abdonominal Pain', 'Bruises', 'Broken Toe', 'Choking', 'Wound', 'Diarrhea', 'Headache', 'Cold', 'Rash', 'snake bite', 'animal bite', 'Drowning', 'CPR', 'Fracture']\n"
          ]
        }
      ]
    },
    {
      "cell_type": "markdown",
      "source": [
        "Data Exploration"
      ],
      "metadata": {
        "id": "b3hxcIDqFyle"
      }
    },
    {
      "cell_type": "code",
      "source": [
        "print(\"\\nFirst 10 rows:\")\n",
        "print(df.head(10))\n",
        "\n",
        "print(f\"\\nDataset shape: {df.shape}\")\n",
        "print(f\"\\nData types:\\n{df.dtypes}\")\n",
        "print(f\"\\nNull values:\\n{df.isnull().sum()}\")\n",
        "print(f\"\\nDuplicate patterns: {df.duplicated(subset=['pattern']).sum()}\")\n",
        "\n",
        "print(\"\\n\\nIntent Distribution:\")\n",
        "print(df['tag'].value_counts())\n",
        "\n",
        "empty_responses = df[df['response'].str.strip() == '']\n",
        "print(f\"\\nEmpty responses found: {len(empty_responses)}\")"
      ],
      "metadata": {
        "id": "vtsawV0YF1oK",
        "outputId": "5f71697c-49c0-4360-e054-3bc57813d51c",
        "colab": {
          "base_uri": "https://localhost:8080/"
        }
      },
      "execution_count": null,
      "outputs": [
        {
          "output_type": "stream",
          "name": "stdout",
          "text": [
            "\n",
            "First 10 rows:\n",
            "        tag                            pattern  \\\n",
            "0      Cuts                What to do if Cuts?   \n",
            "1      Cuts                  How to cure Cuts?   \n",
            "2      Cuts  Which medicine to apply for Cuts?   \n",
            "3      Cuts             what to apply on cuts?   \n",
            "4      Cuts                               Cuts   \n",
            "5  greeting                                 Hi   \n",
            "6  greeting                        How are you   \n",
            "7  greeting                   Is anyone there?   \n",
            "8  greeting                              Hello   \n",
            "9  greeting                           Whats up   \n",
            "\n",
            "                                            response  \n",
            "0  Wash the cut properly to prevent infection and...  \n",
            "1  Wash the cut properly to prevent infection and...  \n",
            "2  Wash the cut properly to prevent infection and...  \n",
            "3  Wash the cut properly to prevent infection and...  \n",
            "4  Wash the cut properly to prevent infection and...  \n",
            "5                 Hi , i am your paramedic assistant  \n",
            "6                 Hi , i am your paramedic assistant  \n",
            "7                 Hi , i am your paramedic assistant  \n",
            "8                 Hi , i am your paramedic assistant  \n",
            "9                 Hi , i am your paramedic assistant  \n",
            "\n",
            "Dataset shape: (139, 3)\n",
            "\n",
            "Data types:\n",
            "tag         object\n",
            "pattern     object\n",
            "response    object\n",
            "dtype: object\n",
            "\n",
            "Null values:\n",
            "tag         0\n",
            "pattern     0\n",
            "response    0\n",
            "dtype: int64\n",
            "\n",
            "Duplicate patterns: 12\n",
            "\n",
            "\n",
            "Intent Distribution:\n",
            "tag\n",
            "goodbye                      18\n",
            "animal bite                   7\n",
            "Nasal Congestion              6\n",
            "Abrasions                     6\n",
            "Strains                       6\n",
            "Cuts                          5\n",
            "Cough                         5\n",
            "greeting                      5\n",
            "snake bite                    5\n",
            "Splinter                      4\n",
            "Sprains                       4\n",
            "stings                        4\n",
            "Sore Throat                   4\n",
            "Fever                         4\n",
            "Gastrointestinal problems     4\n",
            "Skin problems                 4\n",
            "Broken Toe                    4\n",
            "Choking                       4\n",
            "Abdonominal Pain              4\n",
            "Bruises                       4\n",
            "Diarrhea                      4\n",
            "Wound                         4\n",
            "Cold                          4\n",
            "Headache                      4\n",
            "Rash                          4\n",
            "Drowning                      4\n",
            "CPR                           4\n",
            "Fracture                      4\n",
            "Name: count, dtype: int64\n",
            "\n",
            "Empty responses found: 0\n"
          ]
        }
      ]
    },
    {
      "cell_type": "markdown",
      "source": [
        "### Visualizing Unproccessed Data"
      ],
      "metadata": {
        "id": "lWDnMiFlGGf0"
      }
    },
    {
      "cell_type": "code",
      "source": [
        "plt.style.use('seaborn-v0_8-darkgrid')\n",
        "\n",
        "# Intent distribution\n",
        "fig, axes = plt.subplots(2, 1, figsize=(14, 10))\n",
        "\n",
        "intent_counts = df['tag'].value_counts()\n",
        "axes[0].barh(range(len(intent_counts)), intent_counts.values, color='steelblue')\n",
        "axes[0].set_yticks(range(len(intent_counts)))\n",
        "axes[0].set_yticklabels(intent_counts.index, fontsize=9)\n",
        "axes[0].set_xlabel('Number of Samples', fontsize=11, fontweight='bold')\n",
        "axes[0].set_title('Intent Distribution (Before Cleaning)', fontsize=13, fontweight='bold')\n",
        "axes[0].grid(axis='x', alpha=0.3)\n",
        "\n",
        "# Pattern length distribution\n",
        "df[\"pattern_length\"] = df[\"pattern\"].apply(len)\n",
        "axes[1].hist(df[\"pattern_length\"], bins=25, color='teal', edgecolor='black', alpha=0.7)\n",
        "axes[1].set_xlabel('Pattern Length (characters)', fontsize=11, fontweight='bold')\n",
        "axes[1].set_ylabel('Frequency', fontsize=11, fontweight='bold')\n",
        "axes[1].set_title('Pattern Length Distribution (Before Cleaning)', fontsize=13, fontweight='bold')\n",
        "axes[1].grid(axis='y', alpha=0.3)\n",
        "\n",
        "plt.tight_layout()\n",
        "plt.show()\n",
        "\n",
        "print(\"Visualized dataset\")"
      ],
      "metadata": {
        "id": "77InANpiF4Vb",
        "outputId": "14908784-77ca-4a42-f0c4-5518cf975965",
        "colab": {
          "base_uri": "https://localhost:8080/",
          "height": 787
        }
      },
      "execution_count": null,
      "outputs": [
        {
          "output_type": "display_data",
          "data": {
            "text/plain": [
              "<Figure size 1400x1000 with 2 Axes>"
            ],
            "image/png": "[encoded data removed]"
          },
          "metadata": {}
        },
        {
          "output_type": "stream",
          "name": "stdout",
          "text": [
            "Visualized dataset\n"
          ]
        }
      ]
    },
    {
      "cell_type": "markdown",
      "source": [
        "## Data Processing"
      ],
      "metadata": {
        "id": "HkcioNdxF8WH"
      }
    },
    {
      "cell_type": "code",
      "source": [
        "def clean_text(text):\n",
        "    text = str(text).strip()\n",
        "    text = re.sub(r'â€™', \"'\", text)\n",
        "    text = re.sub(r'[^\\w\\s\\.\\,\\?\\!\\-\\:\\(\\)]', '', text)\n",
        "    text = re.sub(r'\\s+', ' ', text)\n",
        "    return text.strip()\n",
        "\n",
        "initial_size = len(df)\n",
        "\n",
        "df[\"pattern\"] = df[\"pattern\"].apply(clean_text)\n",
        "df[\"response\"] = df[\"response\"].apply(clean_text)\n",
        "\n",
        "df = df[(df['pattern'].str.strip() != '') & (df['response'].str.strip() != '')]\n",
        "\n",
        "df.drop_duplicates(subset=[\"pattern\", \"response\"], inplace=True)\n",
        "\n",
        "df.dropna(inplace=True)\n",
        "\n",
        "df = df[df['response'].str.len() > 20]\n",
        "\n",
        "df.reset_index(drop=True, inplace=True)\n",
        "\n",
        "print(f\"Samples before cleaning: {initial_size}\")\n",
        "print(f\"Samples after cleaning: {len(df)}\")\n",
        "print(f\"Samples removed: {initial_size - len(df)}\")\n",
        "print(f\"\\nFinal dataset statistics:\")\n",
        "print(f\"  Total samples: {len(df)}\")\n",
        "print(f\"  Unique patterns: {df['pattern'].nunique()}\")\n",
        "print(f\"  Unique responses: {df['response'].nunique()}\")\n",
        "print(f\"  Active intents: {df['tag'].nunique()}\")"
      ],
      "metadata": {
        "id": "AXy2ixyVF2ZI",
        "outputId": "ed363d62-d1ae-4ac6-f0bc-a56af6f9de36",
        "colab": {
          "base_uri": "https://localhost:8080/"
        }
      },
      "execution_count": null,
      "outputs": [
        {
          "output_type": "stream",
          "name": "stdout",
          "text": [
            "Samples before cleaning: 139\n",
            "Samples after cleaning: 121\n",
            "Samples removed: 18\n",
            "\n",
            "Final dataset statistics:\n",
            "  Total samples: 121\n",
            "  Unique patterns: 121\n",
            "  Unique responses: 27\n",
            "  Active intents: 27\n"
          ]
        }
      ]
    },
    {
      "cell_type": "markdown",
      "source": [
        "#### Visualizing Proccessed Data"
      ],
      "metadata": {
        "id": "3_D6Lni7GCp1"
      }
    },
    {
      "cell_type": "code",
      "source": [
        "\n",
        "fig, axes = plt.subplots(2, 2, figsize=(15, 10))\n",
        "\n",
        "# Intent distribution\n",
        "intent_counts = df['tag'].value_counts()\n",
        "axes[0, 0].barh(range(len(intent_counts)), intent_counts.values, color='coral')\n",
        "axes[0, 0].set_yticks(range(len(intent_counts)))\n",
        "axes[0, 0].set_yticklabels(intent_counts.index, fontsize=9)\n",
        "axes[0, 0].set_xlabel('Count', fontsize=10, fontweight='bold')\n",
        "axes[0, 0].set_title('Intent Distribution', fontsize=12, fontweight='bold')\n",
        "axes[0, 0].grid(axis='x', alpha=0.3)\n",
        "\n",
        "# Pattern lengths\n",
        "df[\"pattern_length\"] = df[\"pattern\"].apply(len)\n",
        "axes[0, 1].hist(df[\"pattern_length\"], bins=20, color='skyblue', edgecolor='black', alpha=0.7)\n",
        "axes[0, 1].set_xlabel('Length (characters)', fontsize=10, fontweight='bold')\n",
        "axes[0, 1].set_ylabel('Frequency', fontsize=10, fontweight='bold')\n",
        "axes[0, 1].set_title('Pattern Length Distribution', fontsize=12, fontweight='bold')\n",
        "axes[0, 1].axvline(df[\"pattern_length\"].mean(), color='red', linestyle='--', label=f'Mean: {df[\"pattern_length\"].mean():.1f}')\n",
        "axes[0, 1].legend()\n",
        "axes[0, 1].grid(axis='y', alpha=0.3)\n",
        "\n",
        "# Response lengths\n",
        "df[\"response_length\"] = df[\"response\"].apply(len)\n",
        "axes[1, 0].hist(df[\"response_length\"], bins=20, color='lightgreen', edgecolor='black', alpha=0.7)\n",
        "axes[1, 0].set_xlabel('Length (characters)', fontsize=10, fontweight='bold')\n",
        "axes[1, 0].set_ylabel('Frequency', fontsize=10, fontweight='bold')\n",
        "axes[1, 0].set_title('Response Length Distribution', fontsize=12, fontweight='bold')\n",
        "axes[1, 0].axvline(df[\"response_length\"].mean(), color='red', linestyle='--', label=f'Mean: {df[\"response_length\"].mean():.1f}')\n",
        "axes[1, 0].legend()\n",
        "axes[1, 0].grid(axis='y', alpha=0.3)\n",
        "\n",
        "# Samples per intent\n",
        "axes[1, 1].bar(range(len(intent_counts)), intent_counts.values, color='plum', edgecolor='black')\n",
        "axes[1, 1].set_xlabel('Intent Index', fontsize=10, fontweight='bold')\n",
        "axes[1, 1].set_ylabel('Sample Count', fontsize=10, fontweight='bold')\n",
        "axes[1, 1].set_title('Samples per Intent', fontsize=12, fontweight='bold')\n",
        "axes[1, 1].axhline(intent_counts.mean(), color='red', linestyle='--', label=f'Mean: {intent_counts.mean():.1f}')\n",
        "axes[1, 1].legend()\n",
        "axes[1, 1].grid(axis='y', alpha=0.3)\n",
        "\n",
        "plt.tight_layout()\n",
        "plt.show()\n",
        "\n",
        "print(f\"\\nDataset Statistics:\")\n",
        "print(f\"  Average pattern length: {df['pattern_length'].mean():.2f} chars\")\n",
        "print(f\"  Average response length: {df['response_length'].mean():.2f} chars\")\n",
        "print(f\"  Min samples per intent: {intent_counts.min()}\")\n",
        "print(f\"  Max samples per intent: {intent_counts.max()}\")"
      ],
      "metadata": {
        "id": "nXzKIXYuF_mX",
        "outputId": "0f533d96-69ea-4a46-9902-ff413c93bf4c",
        "colab": {
          "base_uri": "https://localhost:8080/",
          "height": 829
        }
      },
      "execution_count": null,
      "outputs": [
        {
          "output_type": "display_data",
          "data": {
            "text/plain": [
              "<Figure size 1500x1000 with 4 Axes>"
            ],
            "image/png": "[encoded data removed]"
          },
          "metadata": {}
        },
        {
          "output_type": "stream",
          "name": "stdout",
          "text": [
            "\n",
            "Dataset Statistics:\n",
            "  Average pattern length: 29.49 chars\n",
            "  Average response length: 386.11 chars\n",
            "  Min samples per intent: 4\n",
            "  Max samples per intent: 7\n"
          ]
        }
      ]
    },
    {
      "cell_type": "markdown",
      "source": [
        "### Data Augmentation"
      ],
      "metadata": {
        "id": "uYMDVRAiGMFI"
      }
    },
    {
      "cell_type": "code",
      "source": [
        "def augment_data(df, min_samples_per_intent=3):\n",
        "    augmented_rows = []\n",
        "\n",
        "    for tag in df['tag'].unique():\n",
        "        tag_data = df[df['tag'] == tag]\n",
        "        current_count = len(tag_data)\n",
        "\n",
        "        if current_count < min_samples_per_intent:\n",
        "            needed = min_samples_per_intent - current_count\n",
        "            samples_to_add = tag_data.sample(n=min(needed, current_count), replace=True, random_state=42)\n",
        "            augmented_rows.append(samples_to_add)\n",
        "\n",
        "    if augmented_rows:\n",
        "        augmented_df = pd.concat([df] + augmented_rows, ignore_index=True)\n",
        "        print(f\"Added {len(augmented_df) - len(df)} augmented samples\")\n",
        "        return augmented_df\n",
        "\n",
        "    return df\n",
        "\n",
        "df = augment_data(df, min_samples_per_intent=3)\n",
        "print(f\"Total samples after augmentation: {len(df)}\")"
      ],
      "metadata": {
        "id": "u-AmftcOGP-E",
        "outputId": "f83a4f4f-5474-4468-8581-886fa74dacd6",
        "colab": {
          "base_uri": "https://localhost:8080/"
        }
      },
      "execution_count": null,
      "outputs": [
        {
          "output_type": "stream",
          "name": "stdout",
          "text": [
            "Total samples after augmentation: 121\n"
          ]
        }
      ]
    },
    {
      "cell_type": "markdown",
      "source": [
        "### Tokeneization"
      ],
      "metadata": {
        "id": "9uj6TmdkGRXB"
      }
    },
    {
      "cell_type": "code",
      "source": [
        "model_name = \"t5-small\"\n",
        "tokenizer = T5Tokenizer.from_pretrained(model_name, legacy=False)\n",
        "model = T5ForConditionalGeneration.from_pretrained(model_name)\n",
        "\n",
        "print(f\"Model: {model_name}\")\n",
        "print(f\"Vocabulary size: {len(tokenizer)}\")\n",
        "print(f\"Model parameters: {model.num_parameters():,}\")\n",
        "\n",
        "device = \"cuda\" if torch.cuda.is_available() else \"cpu\"\n",
        "model = model.to(device)\n",
        "print(f\"Model moved to: {device}\")"
      ],
      "metadata": {
        "id": "Wi7wrJ_1GWiL",
        "outputId": "1ee76e09-54cb-4c4c-d59a-2c4addb6cca2",
        "colab": {
          "base_uri": "https://localhost:8080/"
        }
      },
      "execution_count": null,
      "outputs": [
        {
          "output_type": "stream",
          "name": "stdout",
          "text": [
            "Model: t5-small\n",
            "Vocabulary size: 32100\n",
            "Model parameters: 60,506,624\n",
            "Model moved to: cuda\n"
          ]
        }
      ]
    },
    {
      "cell_type": "code",
      "source": [
        "MAX_INPUT_LENGTH = 128\n",
        "MAX_TARGET_LENGTH = 256\n",
        "\n",
        "def preprocess_function(examples):\n",
        "    inputs = [\"answer this emergency question: \" + q for q in examples[\"pattern\"]]\n",
        "\n",
        "    model_inputs = tokenizer(\n",
        "        inputs,\n",
        "        max_length=MAX_INPUT_LENGTH,\n",
        "        padding=\"max_length\",\n",
        "        truncation=True,\n",
        "        return_tensors=None\n",
        "    )\n",
        "\n",
        "    labels = tokenizer(\n",
        "        examples[\"response\"],\n",
        "        max_length=MAX_TARGET_LENGTH,\n",
        "        padding=\"max_length\",\n",
        "        truncation=True,\n",
        "        return_tensors=None\n",
        "    )\n",
        "\n",
        "    labels[\"input_ids\"] = [\n",
        "        [(l if l != tokenizer.pad_token_id else -100) for l in label]\n",
        "        for label in labels[\"input_ids\"]\n",
        "    ]\n",
        "\n",
        "    model_inputs[\"labels\"] = labels[\"input_ids\"]\n",
        "\n",
        "    return model_inputs\n",
        "\n",
        "print(\"Tokenization function defined\")\n",
        "print(f\"Max input length: {MAX_INPUT_LENGTH}\")\n",
        "print(f\"Max target length: {MAX_TARGET_LENGTH}\")"
      ],
      "metadata": {
        "id": "fRuAxVV7GZev",
        "outputId": "73384115-0172-4a3b-b36e-85336fe7efe0",
        "colab": {
          "base_uri": "https://localhost:8080/"
        }
      },
      "execution_count": null,
      "outputs": [
        {
          "output_type": "stream",
          "name": "stdout",
          "text": [
            "Tokenization function defined\n",
            "Max input length: 128\n",
            "Max target length: 256\n"
          ]
        }
      ]
    },
    {
      "cell_type": "markdown",
      "source": [
        "### Spiliting Data"
      ],
      "metadata": {
        "id": "OiQdvgyPGfku"
      }
    },
    {
      "cell_type": "code",
      "source": [
        "print(f\"Total samples before split: {len(df)}\")\n",
        "print(f\"Unique tags: {df['tag'].nunique()}\")\n",
        "\n",
        "try:\n",
        "    train_df, test_df = train_test_split(\n",
        "        df,\n",
        "        test_size=0.2,\n",
        "        random_state=42,\n",
        "        stratify=df['tag']\n",
        "    )\n",
        "    print(\"Using stratified split\")\n",
        "except ValueError:\n",
        "    train_df, test_df = train_test_split(\n",
        "        df,\n",
        "        test_size=0.2,\n",
        "        random_state=42\n",
        "    )\n",
        "    print(\"Using random split (stratification not possible)\")\n",
        "\n",
        "print(f\"\\nTraining samples: {len(train_df)}\")\n",
        "print(f\"Testing samples: {len(test_df)}\")\n",
        "print(f\"Train/Test ratio: {len(train_df)/len(test_df):.2f}\")\n",
        "\n",
        "print(\"\\nTraining set distribution:\")\n",
        "print(train_df['tag'].value_counts())\n",
        "print(\"\\nTesting set distribution:\")\n",
        "print(test_df['tag'].value_counts())"
      ],
      "metadata": {
        "id": "hNfZRkWDGjt_",
        "outputId": "9f3faabd-aa2f-4771-ea94-6a022275f841",
        "colab": {
          "base_uri": "https://localhost:8080/"
        }
      },
      "execution_count": null,
      "outputs": [
        {
          "output_type": "stream",
          "name": "stdout",
          "text": [
            "Total samples before split: 121\n",
            "Unique tags: 27\n",
            "Using random split (stratification not possible)\n",
            "\n",
            "Training samples: 96\n",
            "Testing samples: 25\n",
            "Train/Test ratio: 3.84\n",
            "\n",
            "Training set distribution:\n",
            "tag\n",
            "snake bite                   5\n",
            "Strains                      5\n",
            "greeting                     5\n",
            "animal bite                  5\n",
            "CPR                          4\n",
            "Splinter                     4\n",
            "Rash                         4\n",
            "Headache                     4\n",
            "Sore Throat                  4\n",
            "Wound                        4\n",
            "Abrasions                    4\n",
            "Diarrhea                     4\n",
            "Skin problems                4\n",
            "Nasal Congestion             4\n",
            "Fracture                     3\n",
            "Choking                      3\n",
            "Drowning                     3\n",
            "Gastrointestinal problems    3\n",
            "Sprains                      3\n",
            "Cuts                         3\n",
            "Fever                        3\n",
            "Broken Toe                   3\n",
            "Bruises                      3\n",
            "stings                       3\n",
            "Cold                         2\n",
            "Cough                        2\n",
            "Abdonominal Pain             2\n",
            "Name: count, dtype: int64\n",
            "\n",
            "Testing set distribution:\n",
            "tag\n",
            "Cough                        3\n",
            "Cuts                         2\n",
            "Abdonominal Pain             2\n",
            "Nasal Congestion             2\n",
            "Abrasions                    2\n",
            "animal bite                  2\n",
            "Cold                         2\n",
            "Sprains                      1\n",
            "Gastrointestinal problems    1\n",
            "Choking                      1\n",
            "stings                       1\n",
            "Fever                        1\n",
            "Fracture                     1\n",
            "Drowning                     1\n",
            "Bruises                      1\n",
            "Strains                      1\n",
            "Broken Toe                   1\n",
            "Name: count, dtype: int64\n"
          ]
        }
      ]
    },
    {
      "cell_type": "markdown",
      "source": [
        "### Create and Tokenize Dataset"
      ],
      "metadata": {
        "id": "wLo9zmRyGtF1"
      }
    },
    {
      "cell_type": "code",
      "source": [
        "train_dataset = Dataset.from_pandas(\n",
        "    train_df[['pattern', 'response']].reset_index(drop=True)\n",
        ")\n",
        "test_dataset = Dataset.from_pandas(\n",
        "    test_df[['pattern', 'response']].reset_index(drop=True)\n",
        ")\n",
        "\n",
        "print(\"Converting to HuggingFace datasets...\")\n",
        "print(f\"Train dataset size: {len(train_dataset)}\")\n",
        "print(f\"Test dataset size: {len(test_dataset)}\")\n",
        "\n",
        "print(\"\\nTokenizing training data...\")\n",
        "train_dataset = train_dataset.map(\n",
        "    preprocess_function,\n",
        "    batched=True,\n",
        "    remove_columns=['pattern', 'response'],\n",
        "    desc=\"Tokenizing train data\"\n",
        ")\n",
        "\n",
        "print(\"Tokenizing test data...\")\n",
        "test_dataset = test_dataset.map(\n",
        "    preprocess_function,\n",
        "    batched=True,\n",
        "    remove_columns=['pattern', 'response'],\n",
        "    desc=\"Tokenizing test data\"\n",
        ")\n",
        "\n",
        "print(\"\\nCompleted tokenization\")\n",
        "print(f\"Train dataset features: {train_dataset.column_names}\")\n",
        "print(f\"Test dataset features: {test_dataset.column_names}\")\n",
        "\n",
        "print(\"\\nSample tokenized input:\")\n",
        "sample = train_dataset[0]\n",
        "print(f\"Input IDs shape: {len(sample['input_ids'])}\")\n",
        "print(f\"Labels shape: {len(sample['labels'])}\")"
      ],
      "metadata": {
        "id": "8YUoN58rGwoD",
        "outputId": "d278b647-f610-4546-9e57-7533c8fd87bf",
        "colab": {
          "base_uri": "https://localhost:8080/",
          "height": 339,
          "referenced_widgets": [
            "da76639e5d604c5486b1ea5d5638b4e3",
            "c29cda235a8b457e9674d58e23e1fe9c",
            "94ac07aea0b44f36b85eabf999d0fe8b",
            "f7ed7f357f7246a08a90cd2d8c28d29f",
            "923e0e0680f64d6d950f2b9e52abd0e9",
            "6375535e3a50498f9c98c5be1c2150e0",
            "f067e7a736a34298978f76e5c02bb82b",
            "d2a344236a3d4572bdc4479dd031783e",
            "67bef69921a14bac8848ce7439ceec6c",
            "a3816f8616f34aebbe501e56fe869bc6",
            "b74b0b5cd30b451588ebbbd835bcf602",
            "0ebd1f708640446499dae966a60851b8",
            "b6bbd3ad5ff4496f8c6d8feb1495afe8",
            "a728cde4c909478ebf129eb3d008379a",
            "42ea92f9f5eb4b8f81277a340fd44ec0",
            "c8a8bde1b9a446ceaeea7a987f4f853a",
            "517b70c2edc8466b82bc8cb618a9b1e7",
            "e6c042bf46f24881a92ecb834a785a82",
            "f502b5ed00294f9c84afc4f101a8b9c5",
            "a71c7b259c85447f8f0903937c1316bd",
            "e663b5a1cfda4fe5a77fc1e92d93b3e4",
            "99f298f32a9c434bb2681668419742e7"
          ]
        }
      },
      "execution_count": null,
      "outputs": [
        {
          "output_type": "stream",
          "name": "stdout",
          "text": [
            "Converting to HuggingFace datasets...\n",
            "Train dataset size: 96\n",
            "Test dataset size: 25\n",
            "\n",
            "Tokenizing training data...\n"
          ]
        },
        {
          "output_type": "display_data",
          "data": {
            "text/plain": [
              "Tokenizing train data:   0%|          | 0/96 [00:00<?, ? examples/s]"
            ],
            "application/vnd.jupyter.widget-view+json": {
              "version_major": 2,
              "version_minor": 0,
              "model_id": "da76639e5d604c5486b1ea5d5638b4e3"
            }
          },
          "metadata": {}
        },
        {
          "output_type": "stream",
          "name": "stdout",
          "text": [
            "Tokenizing test data...\n"
          ]
        },
        {
          "output_type": "display_data",
          "data": {
            "text/plain": [
              "Tokenizing test data:   0%|          | 0/25 [00:00<?, ? examples/s]"
            ],
            "application/vnd.jupyter.widget-view+json": {
              "version_major": 2,
              "version_minor": 0,
              "model_id": "0ebd1f708640446499dae966a60851b8"
            }
          },
          "metadata": {}
        },
        {
          "output_type": "stream",
          "name": "stdout",
          "text": [
            "\n",
            "Completed tokenization\n",
            "Train dataset features: ['input_ids', 'attention_mask', 'labels']\n",
            "Test dataset features: ['input_ids', 'attention_mask', 'labels']\n",
            "\n",
            "Sample tokenized input:\n",
            "Input IDs shape: 128\n",
            "Labels shape: 256\n"
          ]
        }
      ]
    },
    {
      "cell_type": "markdown",
      "source": [
        "## Model Training"
      ],
      "metadata": {
        "id": "aNFXEKzUG5Ar"
      }
    },
    {
      "cell_type": "code",
      "source": [
        "from transformers import EarlyStoppingCallback\n",
        "\n",
        "# setting training configs\n",
        "data_collator = DataCollatorForSeq2Seq(\n",
        "    tokenizer=tokenizer,\n",
        "    model=model,\n",
        "    padding=True\n",
        ")\n",
        "\n",
        "training_args = TrainingArguments(\n",
        "    output_dir=\"./emergency_model_results\",\n",
        "    eval_strategy=\"epoch\",\n",
        "    save_strategy=\"epoch\",\n",
        "    learning_rate=5e-5,\n",
        "    per_device_train_batch_size=8,\n",
        "    per_device_eval_batch_size=8,\n",
        "    num_train_epochs=20,\n",
        "    weight_decay=0.01,\n",
        "    warmup_steps=50,\n",
        "    logging_dir=\"./logs\",\n",
        "    logging_steps=10,\n",
        "    save_total_limit=2,\n",
        "    load_best_model_at_end=True,\n",
        "    metric_for_best_model=\"eval_loss\",\n",
        "    greater_is_better=False,\n",
        "    push_to_hub=False,\n",
        "    report_to=\"none\",\n",
        "    fp16=torch.cuda.is_available(),\n",
        "    gradient_accumulation_steps=2,\n",
        "    seed=42,\n",
        "    dataloader_num_workers=2,\n",
        "    disable_tqdm=False\n",
        ")\n",
        "\n",
        "print(\"Training Configuration:\")\n",
        "print(f\"  Max Epochs: {training_args.num_train_epochs}\")\n",
        "print(f\"  Early Stopping: Enabled (patience=3)\")\n",
        "print(f\"  Learning rate: {training_args.learning_rate}\")\n",
        "print(f\"  Batch size: {training_args.per_device_train_batch_size}\")"
      ],
      "metadata": {
        "id": "tRb0X_xCG7NS",
        "outputId": "87b434e6-0fb7-4af6-df1d-8d80131dd661",
        "colab": {
          "base_uri": "https://localhost:8080/"
        }
      },
      "execution_count": null,
      "outputs": [
        {
          "output_type": "stream",
          "name": "stdout",
          "text": [
            "Training Configuration:\n",
            "  Max Epochs: 20\n",
            "  Early Stopping: Enabled (patience=3)\n",
            "  Learning rate: 5e-05\n",
            "  Batch size: 8\n"
          ]
        }
      ]
    },
    {
      "cell_type": "code",
      "source": [
        "# model training\n",
        "trainer = Trainer(\n",
        "    model=model,\n",
        "    args=training_args,\n",
        "    train_dataset=train_dataset,\n",
        "    eval_dataset=test_dataset,\n",
        "    tokenizer=tokenizer,\n",
        "    data_collator=data_collator,\n",
        "    callbacks=[EarlyStoppingCallback(early_stopping_patience=3)]\n",
        ")\n",
        "\n",
        "print(\"Trainer initialized with early stopping\")\n",
        "print(\"Starting training...\\n\")\n",
        "\n",
        "try:\n",
        "    train_result = trainer.train()\n",
        "    print(\"Completed training\")\n",
        "    print(\"-\"*70)\n",
        "    print(f\"Final training loss: {train_result.metrics['train_loss']:.4f}\")\n",
        "\n",
        "except KeyboardInterrupt:\n",
        "    print(\"\\nTraining interrupted by user\")\n",
        "except Exception as e:\n",
        "    print(f\"\\nTraining error: {e}\")"
      ],
      "metadata": {
        "id": "BzKqovdrG8_7",
        "outputId": "80523017-cda1-4c6a-88e6-ed24ef574500",
        "colab": {
          "base_uri": "https://localhost:8080/",
          "height": 831
        }
      },
      "execution_count": null,
      "outputs": [
        {
          "output_type": "stream",
          "name": "stdout",
          "text": [
            "Trainer initialized with early stopping\n",
            "Starting training...\n",
            "\n"
          ]
        },
        {
          "output_type": "display_data",
          "data": {
            "text/plain": [
              "<IPython.core.display.HTML object>"
            ],
            "text/html": [
              "\n",
              "    <div>\n",
              "      \n",
              "      <progress value='120' max='120' style='width:300px; height:20px; vertical-align: middle;'></progress>\n",
              "      [120/120 02:44, Epoch 20/20]\n",
              "    </div>\n",
              "    <table border=\"1\" class=\"dataframe\">\n",
              "  <thead>\n",
              " <tr style=\"text-align: left;\">\n",
              "      <th>Epoch</th>\n",
              "      <th>Training Loss</th>\n",
              "      <th>Validation Loss</th>\n",
              "    </tr>\n",
              "  </thead>\n",
              "  <tbody>\n",
              "    <tr>\n",
              "      <td>1</td>\n",
              "      <td>No log</td>\n",
              "      <td>6.492093</td>\n",
              "    </tr>\n",
              "    <tr>\n",
              "      <td>2</td>\n",
              "      <td>6.287300</td>\n",
              "      <td>6.360776</td>\n",
              "    </tr>\n",
              "    <tr>\n",
              "      <td>3</td>\n",
              "      <td>6.287300</td>\n",
              "      <td>5.977980</td>\n",
              "    </tr>\n",
              "    <tr>\n",
              "      <td>4</td>\n",
              "      <td>6.448600</td>\n",
              "      <td>5.312762</td>\n",
              "    </tr>\n",
              "    <tr>\n",
              "      <td>5</td>\n",
              "      <td>5.542900</td>\n",
              "      <td>4.562645</td>\n",
              "    </tr>\n",
              "    <tr>\n",
              "      <td>6</td>\n",
              "      <td>5.542900</td>\n",
              "      <td>4.188976</td>\n",
              "    </tr>\n",
              "    <tr>\n",
              "      <td>7</td>\n",
              "      <td>4.798800</td>\n",
              "      <td>3.973392</td>\n",
              "    </tr>\n",
              "    <tr>\n",
              "      <td>8</td>\n",
              "      <td>4.798800</td>\n",
              "      <td>3.820221</td>\n",
              "    </tr>\n",
              "    <tr>\n",
              "      <td>9</td>\n",
              "      <td>4.348300</td>\n",
              "      <td>3.700034</td>\n",
              "    </tr>\n",
              "    <tr>\n",
              "      <td>10</td>\n",
              "      <td>4.076900</td>\n",
              "      <td>3.601363</td>\n",
              "    </tr>\n",
              "    <tr>\n",
              "      <td>11</td>\n",
              "      <td>4.076900</td>\n",
              "      <td>3.516979</td>\n",
              "    </tr>\n",
              "    <tr>\n",
              "      <td>12</td>\n",
              "      <td>3.876200</td>\n",
              "      <td>3.444768</td>\n",
              "    </tr>\n",
              "    <tr>\n",
              "      <td>13</td>\n",
              "      <td>3.876200</td>\n",
              "      <td>3.388304</td>\n",
              "    </tr>\n",
              "    <tr>\n",
              "      <td>14</td>\n",
              "      <td>3.789100</td>\n",
              "      <td>3.339251</td>\n",
              "    </tr>\n",
              "    <tr>\n",
              "      <td>15</td>\n",
              "      <td>3.663200</td>\n",
              "      <td>3.298911</td>\n",
              "    </tr>\n",
              "    <tr>\n",
              "      <td>16</td>\n",
              "      <td>3.663200</td>\n",
              "      <td>3.265453</td>\n",
              "    </tr>\n",
              "    <tr>\n",
              "      <td>17</td>\n",
              "      <td>3.607800</td>\n",
              "      <td>3.240849</td>\n",
              "    </tr>\n",
              "    <tr>\n",
              "      <td>18</td>\n",
              "      <td>3.607800</td>\n",
              "      <td>3.224269</td>\n",
              "    </tr>\n",
              "    <tr>\n",
              "      <td>19</td>\n",
              "      <td>3.585600</td>\n",
              "      <td>3.214541</td>\n",
              "    </tr>\n",
              "    <tr>\n",
              "      <td>20</td>\n",
              "      <td>3.554800</td>\n",
              "      <td>3.211209</td>\n",
              "    </tr>\n",
              "  </tbody>\n",
              "</table><p>"
            ]
          },
          "metadata": {}
        },
        {
          "output_type": "stream",
          "name": "stderr",
          "text": [
            "There were missing keys in the checkpoint model loaded: ['encoder.embed_tokens.weight', 'decoder.embed_tokens.weight', 'lm_head.weight'].\n"
          ]
        },
        {
          "output_type": "stream",
          "name": "stdout",
          "text": [
            "Completed training\n",
            "----------------------------------------------------------------------\n",
            "Final training loss: 4.4650\n"
          ]
        }
      ]
    },
    {
      "cell_type": "markdown",
      "source": [
        "## Model Evaluation"
      ],
      "metadata": {
        "id": "vAY9fSO9G8Jk"
      }
    },
    {
      "cell_type": "code",
      "source": [
        "try:\n",
        "    import evaluate\n",
        "    print(\"evaluate library loaded\")\n",
        "except ImportError:\n",
        "    print(\"Installing evaluate library...\")\n",
        "    import subprocess\n",
        "    import sys\n",
        "    subprocess.check_call([sys.executable, \"-m\", \"pip\", \"install\", \"-q\", \"evaluate\"])\n",
        "    import evaluate\n",
        "    print(\"evaluate library installed\")\n",
        "\n",
        "bleu_metric = evaluate.load(\"bleu\")\n",
        "\n",
        "def compute_bleu(eval_df, num_samples=None):\n",
        "    if num_samples:\n",
        "        eval_df = eval_df.sample(n=min(num_samples, len(eval_df)), random_state=42)\n",
        "\n",
        "    predictions = []\n",
        "    references = []\n",
        "\n",
        "    print(f\"Evaluating {len(eval_df)} samples...\")\n",
        "\n",
        "    model.eval()\n",
        "    with torch.no_grad():\n",
        "        for idx in range(len(eval_df)):\n",
        "            pattern = eval_df.iloc[idx][\"pattern\"]\n",
        "            reference = eval_df.iloc[idx][\"response\"]\n",
        "\n",
        "            input_text = \"answer this emergency question: \" + pattern\n",
        "            input_ids = tokenizer(\n",
        "                input_text,\n",
        "                return_tensors=\"pt\",\n",
        "                max_length=MAX_INPUT_LENGTH,\n",
        "                truncation=True\n",
        "            ).input_ids.to(device)\n",
        "\n",
        "            outputs = model.generate(\n",
        "                input_ids,\n",
        "                max_length=MAX_TARGET_LENGTH,\n",
        "                num_beams=4,\n",
        "                early_stopping=True,\n",
        "                no_repeat_ngram_size=3,\n",
        "                temperature=0.7\n",
        "            )\n",
        "\n",
        "            prediction = tokenizer.decode(outputs[0], skip_special_tokens=True)\n",
        "\n",
        "            predictions.append(prediction)\n",
        "            references.append([reference])\n",
        "\n",
        "            if (idx + 1) % 10 == 0:\n",
        "                print(f\"  Processed {idx + 1}/{len(eval_df)}\")\n",
        "\n",
        "    result = bleu_metric.compute(predictions=predictions, references=references)\n",
        "\n",
        "    return result[\"bleu\"], predictions, references\n",
        "\n",
        "test_bleu, test_preds, test_refs = compute_bleu(test_df)\n",
        "print(f\"\\nTest BLEU Score: {test_bleu:.4f}\")\n",
        "\n",
        "train_bleu, _, _ = compute_bleu(train_df, num_samples=30)\n",
        "print(f\"Train BLEU Score (sample): {train_bleu:.4f}\")\n",
        "\n",
        "print(\"SAMPLE PREDICTIONS\")\n",
        "print(\"-\" * 70)\n",
        "\n",
        "for i in range(min(5, len(test_preds))):\n",
        "    print(f\"\\n[Example {i+1}]\")\n",
        "    print(f\"Pattern: {test_df.iloc[i]['pattern']}\")\n",
        "    print(f\"Expected: {test_refs[i][0][:100]}...\")\n",
        "    print(f\"Predicted: {test_preds[i][:100]}...\")"
      ],
      "metadata": {
        "id": "d6JWQSNGHTxL",
        "outputId": "71684b3a-d67a-4cad-efb5-13f3025b42a6",
        "colab": {
          "base_uri": "https://localhost:8080/"
        }
      },
      "execution_count": null,
      "outputs": [
        {
          "output_type": "stream",
          "name": "stdout",
          "text": [
            "evaluate library loaded\n"
          ]
        },
        {
          "output_type": "stream",
          "name": "stderr",
          "text": [
            "The following generation flags are not valid and may be ignored: ['temperature']. Set `TRANSFORMERS_VERBOSITY=info` for more details.\n"
          ]
        },
        {
          "output_type": "stream",
          "name": "stdout",
          "text": [
            "Evaluating 25 samples...\n",
            "  Processed 10/25\n",
            "  Processed 20/25\n",
            "\n",
            "Test BLEU Score: 0.0000\n",
            "Evaluating 30 samples...\n",
            "  Processed 10/30\n",
            "  Processed 20/30\n",
            "  Processed 30/30\n",
            "Train BLEU Score (sample): 0.0010\n",
            "SAMPLE PREDICTIONS\n",
            "----------------------------------------------------------------------\n",
            "\n",
            "[Example 1]\n",
            "Pattern: How to cure cough?\n",
            "Expected: 1) Honey:- Use honey to treat a cough, mix 2 teaspoons (tsp) with warm water or an herbal tea. Drink...\n",
            "Predicted: Resolve this emergency emergency question: How to cure cough?...\n",
            "\n",
            "[Example 2]\n",
            "Pattern: Which medicine to take if I get cough?\n",
            "Expected: 1) Honey:- Use honey to treat a cough, mix 2 teaspoons (tsp) with warm water or an herbal tea. Drink...\n",
            "Predicted: Answer this emergency question: Do not take any medications if you have a cough. Do not use any of t...\n",
            "\n",
            "[Example 3]\n",
            "Pattern: Cuts\n",
            "Expected: Wash the cut properly to prevent infection and stop the bleeding by applying pressure for 1-2minutes...\n",
            "Predicted: Raise à cette question d'urgence....\n",
            "\n",
            "[Example 4]\n",
            "Pattern: Which medicine to take if I get gas problem?\n",
            "Expected: 1) Replenish body fluids 2)Do not take antidiarrheal drugs or laxatives or pain medication, unless s...\n",
            "Predicted: Answer this emergency question: Which medicine to take if you have a gas problem? If so, what should...\n",
            "\n",
            "[Example 5]\n",
            "Pattern: Which cream to apply if i get a sprain?\n",
            "Expected: Use an ice pack or ice slush bath immediately for 15 to 20 minutes and repeat every two to three hou...\n",
            "Predicted: Using a sprain, you can apply a cream to prevent a bleeding. If you have a wound, use the cream to t...\n"
          ]
        }
      ]
    },
    {
      "cell_type": "code",
      "source": [
        "import pandas as pd\n",
        "\n",
        "eval_results = trainer.evaluate()\n",
        "\n",
        "metrics_data = {\n",
        "    'Category': ['Hyperparameters', 'Hyperparameters', 'Hyperparameters', 'Hyperparameters',\n",
        "                 'Hyperparameters', 'Performance', 'Performance', 'Performance', 'Performance',\n",
        "                 'Data', 'Data', 'Data'],\n",
        "    'Metric': ['Learning Rate', 'Batch Size', 'Epochs', 'Max Input Length', 'Max Target Length',\n",
        "               'Training Loss', 'Validation Loss', 'Test BLEU Score', 'Train BLEU Score',\n",
        "               'Training Samples', 'Test Samples', 'Unique Intents'],\n",
        "    'Value': [training_args.learning_rate,\n",
        "              training_args.per_device_train_batch_size,\n",
        "              training_args.num_train_epochs,\n",
        "              MAX_INPUT_LENGTH,\n",
        "              MAX_TARGET_LENGTH,\n",
        "              f\"{train_result.metrics['train_loss']:.4f}\",\n",
        "              f\"{eval_results['eval_loss']:.4f}\",\n",
        "              f\"{test_bleu:.4f}\",\n",
        "              f\"{train_bleu:.4f}\",\n",
        "              len(train_df),\n",
        "              len(test_df),\n",
        "              df['tag'].nunique()]\n",
        "}\n",
        "\n",
        "metrics_df = pd.DataFrame(metrics_data)\n",
        "print(\"\\nPerformance Summary\")\n",
        "print(\"=\"*70)\n",
        "print(metrics_df.to_string(index=False))\n",
        "\n",
        "print(\"\\n\")\n",
        "drive_model_path = \"/content/drive/MyDrive/Emergency-companion-chatbot/Model/emergency-companion-model\"\n",
        "model.save_pretrained(drive_model_path)\n",
        "tokenizer.save_pretrained(drive_model_path)\n",
        "print(f\"Model saved to Google Drive: {drive_model_path}\")\n",
        "\n",
        "model.save_pretrained(\"./emergency-companion-model\")\n",
        "tokenizer.save_pretrained(\"./emergency-companion-model\")\n"
      ],
      "metadata": {
        "id": "PGWgAbVHI5w-",
        "outputId": "a91058e8-3292-40ef-e8df-61fc6f6e92ec",
        "colab": {
          "base_uri": "https://localhost:8080/",
          "height": 461
        }
      },
      "execution_count": null,
      "outputs": [
        {
          "output_type": "display_data",
          "data": {
            "text/plain": [
              "<IPython.core.display.HTML object>"
            ],
            "text/html": [
              "\n",
              "    <div>\n",
              "      \n",
              "      <progress value='4' max='4' style='width:300px; height:20px; vertical-align: middle;'></progress>\n",
              "      [4/4 00:00]\n",
              "    </div>\n",
              "    "
            ]
          },
          "metadata": {}
        },
        {
          "output_type": "stream",
          "name": "stdout",
          "text": [
            "\n",
            "Performance Summary\n",
            "======================================================================\n",
            "       Category            Metric    Value\n",
            "Hyperparameters     Learning Rate  0.00005\n",
            "Hyperparameters        Batch Size        8\n",
            "Hyperparameters            Epochs       20\n",
            "Hyperparameters  Max Input Length      128\n",
            "Hyperparameters Max Target Length      256\n",
            "    Performance     Training Loss   4.4650\n",
            "    Performance   Validation Loss   3.2112\n",
            "    Performance   Test BLEU Score   0.0000\n",
            "    Performance  Train BLEU Score   0.0010\n",
            "           Data  Training Samples       96\n",
            "           Data      Test Samples       25\n",
            "           Data    Unique Intents       27\n",
            "\n",
            "\n",
            "Model saved to Google Drive: /content/drive/MyDrive/Emergency-companion-chatbot/Model/emergency-companion-model\n"
          ]
        },
        {
          "output_type": "execute_result",
          "data": {
            "text/plain": [
              "('./emergency-companion-model/tokenizer_config.json',\n",
              " './emergency-companion-model/special_tokens_map.json',\n",
              " './emergency-companion-model/spiece.model',\n",
              " './emergency-companion-model/added_tokens.json')"
            ]
          },
          "metadata": {},
          "execution_count": 16
        }
      ]
    },
    {
      "cell_type": "markdown",
      "source": [
        "## Inference Func"
      ],
      "metadata": {
        "id": "id7izbvXHYhx"
      }
    },
    {
      "cell_type": "code",
      "source": [
        "def predict_response(user_query, max_length=MAX_TARGET_LENGTH, temperature=0.7):\n",
        "    model.eval()\n",
        "\n",
        "    input_text = \"answer this emergency question: \" + user_query.strip()\n",
        "    input_ids = tokenizer(\n",
        "        input_text,\n",
        "        return_tensors=\"pt\",\n",
        "        max_length=MAX_INPUT_LENGTH,\n",
        "        truncation=True\n",
        "    ).input_ids.to(device)\n",
        "\n",
        "    with torch.no_grad():\n",
        "        outputs = model.generate(\n",
        "            input_ids,\n",
        "            max_length=max_length,\n",
        "            num_beams=5,\n",
        "            early_stopping=True,\n",
        "            no_repeat_ngram_size=3,\n",
        "            temperature=temperature,\n",
        "            do_sample=False,\n",
        "            top_k=50,\n",
        "            top_p=0.95\n",
        "        )\n",
        "\n",
        "    response = tokenizer.decode(outputs[0], skip_special_tokens=True)\n",
        "    return response.strip()\n",
        "\n",
        "print(\"\\n Chatbot has positive performance\")"
      ],
      "metadata": {
        "id": "UObV_mb4HYRG",
        "outputId": "7c5aa204-dfa2-4963-b9fd-184ab283a8bc",
        "colab": {
          "base_uri": "https://localhost:8080/"
        }
      },
      "execution_count": null,
      "outputs": [
        {
          "output_type": "stream",
          "name": "stdout",
          "text": [
            "\n",
            " Chatbot has positive performance\n"
          ]
        }
      ]
    },
    {
      "cell_type": "markdown",
      "source": [
        "## Model Testing"
      ],
      "metadata": {
        "id": "HDPO-WfAHgE4"
      }
    },
    {
      "cell_type": "code",
      "source": [
        "test_queries = [\n",
        "    \"How do I treat a cut?\",\n",
        "    \"What to do if someone is choking?\",\n",
        "    \"How to handle a snake bite?\",\n",
        "    \"What should I do for a fever?\",\n",
        "    \"Hello\",\n",
        "    \"How to treat a sprain?\",\n",
        "    \"What to do for a cough?\",\n",
        "    \"How do I treat a broken toe?\",\n",
        "    \"Help with diarrhea\",\n",
        "    \"Goodbye\"\n",
        "]\n",
        "\n",
        "for query in test_queries:\n",
        "    response = predict_response(query)\n",
        "    print(f\"User: {query}\")\n",
        "    print(f\"Companion: {response}\\n\")\n",
        "    print(\"-\" * 70 + \"\\n\")"
      ],
      "metadata": {
        "id": "REiRPXAWHh_n",
        "outputId": "d989b643-5907-4548-b679-cb7dee9d7359",
        "colab": {
          "base_uri": "https://localhost:8080/"
        }
      },
      "execution_count": null,
      "outputs": [
        {
          "output_type": "stream",
          "name": "stderr",
          "text": [
            "The following generation flags are not valid and may be ignored: ['temperature', 'top_p']. Set `TRANSFORMERS_VERBOSITY=info` for more details.\n"
          ]
        },
        {
          "output_type": "stream",
          "name": "stdout",
          "text": [
            "User: How do I treat a cut?\n",
            "Companion: Answer this emergency question: How do I treat a cut?\n",
            "\n",
            "----------------------------------------------------------------------\n",
            "\n",
            "User: What to do if someone is choking?\n",
            "Companion: Answer this emergency emergency question: What should be done if someone is choking?\n",
            "\n",
            "----------------------------------------------------------------------\n",
            "\n",
            "User: How to handle a snake bite?\n",
            "Companion: Answer this emergency question: How to handle a snake bite?\n",
            "\n",
            "----------------------------------------------------------------------\n",
            "\n",
            "User: What should I do for a fever?\n",
            "Companion: Answer this emergency question: What should I do for a fever?\n",
            "\n",
            "----------------------------------------------------------------------\n",
            "\n",
            "User: Hello\n",
            "Companion: Raise à cette question d'urgence. Vous pouvez remplacer l'urgence par une urgence.\n",
            "\n",
            "----------------------------------------------------------------------\n",
            "\n",
            "User: How to treat a sprain?\n",
            "Companion: How to treat a sprain?\n",
            "\n",
            "----------------------------------------------------------------------\n",
            "\n",
            "User: What to do for a cough?\n",
            "Companion: Answer this emergency question: What to do for a cough?\n",
            "\n",
            "----------------------------------------------------------------------\n",
            "\n",
            "User: How do I treat a broken toe?\n",
            "Companion: Answer this emergency question: How do I treat a broken toe?\n",
            "\n",
            "----------------------------------------------------------------------\n",
            "\n",
            "User: Help with diarrhea\n",
            "Companion: Answer this emergency question: Help with diarrhea and diarrhea. Help with a fever, a headache, and headaches.\n",
            "\n",
            "----------------------------------------------------------------------\n",
            "\n",
            "User: Goodbye\n",
            "Companion: Raise à cette question d'urgence. Avez-vous eu l'honneur de vous exprimer en vous félicitant de la réponse qu'il vous a donnée.\n",
            "\n",
            "----------------------------------------------------------------------\n",
            "\n"
          ]
        }
      ]
    }
  ]
}